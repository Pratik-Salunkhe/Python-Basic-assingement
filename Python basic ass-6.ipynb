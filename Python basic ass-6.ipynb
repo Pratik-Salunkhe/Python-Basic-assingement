{
 "cells": [
  {
   "cell_type": "markdown",
   "id": "866a1648",
   "metadata": {},
   "source": [
    "# Assignment-6"
   ]
  },
  {
   "cell_type": "markdown",
   "id": "c1973534",
   "metadata": {},
   "source": [
    "Q1. What are escape characters, and how do you use them?\n",
    "\n",
    "Answer :\n",
    "    \n",
    "        In Python strings, the backslash \"\\\" is a special character, also called the \"escape\" character. It is used in representing certain whitespace characters: \"\\t\" is a tab, \"\\n\" is a newline, and \"\\r\" is a carriage return"
   ]
  },
  {
   "cell_type": "code",
   "execution_count": 18,
   "id": "e9a343f1",
   "metadata": {},
   "outputs": [
    {
     "name": "stdout",
     "output_type": "stream",
     "text": [
      "Pratik-salunkhe\n",
      "pra\tik-salunkhe\n",
      "pratik\n",
      "salunkhe\n",
      "salunkhe\n",
      "pratik\tsalunkhe\n"
     ]
    }
   ],
   "source": [
    "print(\"Pratik-salunkhe\")\n",
    "print(\"pra\\tik-salunkhe\")\n",
    "print(\"pratik\\nsalunkhe\")\n",
    "print(\"pratik\\rsalunkhe\") \n",
    "print(\"pratik\\tsalunkhe\")"
   ]
  },
  {
   "cell_type": "raw",
   "id": "72ed24d5",
   "metadata": {},
   "source": [
    "Q2. What do the escape characters n and t stand for?\n",
    "\n",
    "Answer :\n",
    "\n",
    "        \"\\t\" is a tab, \"\\n\" is a newline as described in above question."
   ]
  },
  {
   "cell_type": "raw",
   "id": "2ecfe522",
   "metadata": {},
   "source": [
    "Q3. What is the way to include backslash characters in a string?\n",
    "\n",
    "Answer :\n",
    "\n",
    "        To print the back slash in the string we have to write the double back slash \"\\\\\" so that we can print back slash "
   ]
  },
  {
   "cell_type": "code",
   "execution_count": 20,
   "id": "f54f178f",
   "metadata": {},
   "outputs": [
    {
     "name": "stdout",
     "output_type": "stream",
     "text": [
      "its a back slash \\ in a sentence\n"
     ]
    }
   ],
   "source": [
    "        print('its a back slash \\\\ in a sentence')"
   ]
  },
  {
   "cell_type": "raw",
   "id": "8f572989",
   "metadata": {},
   "source": [
    "Q4. The string \"Howl's Moving Castle\" is a correct value. Why isn't the single quote character in the word Howl's not escaped a problem?\n",
    "\n",
    "Answer :\n",
    "    \n",
    "        The single quote in Howl's is fine because you've used double quotes to mark the beginning and end of the string. like wise we can use double quotes within single quotes."
   ]
  },
  {
   "cell_type": "code",
   "execution_count": 24,
   "id": "a0104a7f",
   "metadata": {},
   "outputs": [
    {
     "name": "stdout",
     "output_type": "stream",
     "text": [
      "HowI's Moving Castle\n",
      "Its a \"Nice\" Sunday\n"
     ]
    }
   ],
   "source": [
    "print(\"HowI's Moving Castle\")\n",
    "# like wise we can use double quote in side single quote\n",
    "print('Its a \"Nice\" Sunday')"
   ]
  },
  {
   "cell_type": "raw",
   "id": "7199acff",
   "metadata": {},
   "source": [
    "Q5. How do you write a string of newlines if you don't want to use the n character?\n",
    "\n",
    "Answer :\n",
    "    \n",
    "        We can use the parameter end ='\\n' in print function."
   ]
  },
  {
   "cell_type": "code",
   "execution_count": 27,
   "id": "306f68f7",
   "metadata": {},
   "outputs": [
    {
     "name": "stdout",
     "output_type": "stream",
     "text": [
      "printing something in multiple lines\n",
      "newline\n"
     ]
    }
   ],
   "source": [
    "print(\"printing something in multiple lines\",end = '\\n')\n",
    "print(\"newline\")"
   ]
  },
  {
   "cell_type": "raw",
   "id": "f75c8594",
   "metadata": {},
   "source": [
    "Q6. What are the values of the given expressions?\n",
    "    'Hello, world!'[1]\n",
    "    'Hello, world!'[0:5]\n",
    "    'Hello, world!'[:5]\n",
    "    'Hello, world!'[3:]\n",
    "Answer :\n",
    "       \n",
    "        The values of following given expression are as below."
   ]
  },
  {
   "cell_type": "code",
   "execution_count": 32,
   "id": "8e116d1c",
   "metadata": {},
   "outputs": [
    {
     "data": {
      "text/plain": [
       "'e'"
      ]
     },
     "execution_count": 32,
     "metadata": {},
     "output_type": "execute_result"
    }
   ],
   "source": [
    "        'Hello, world!'[1]"
   ]
  },
  {
   "cell_type": "code",
   "execution_count": 33,
   "id": "58dbb330",
   "metadata": {},
   "outputs": [
    {
     "data": {
      "text/plain": [
       "'Hello'"
      ]
     },
     "execution_count": 33,
     "metadata": {},
     "output_type": "execute_result"
    }
   ],
   "source": [
    "       'Hello, world!'[0:5]"
   ]
  },
  {
   "cell_type": "code",
   "execution_count": 34,
   "id": "985989ce",
   "metadata": {},
   "outputs": [
    {
     "data": {
      "text/plain": [
       "'Hello'"
      ]
     },
     "execution_count": 34,
     "metadata": {},
     "output_type": "execute_result"
    }
   ],
   "source": [
    "        'Hello, world!'[:5]"
   ]
  },
  {
   "cell_type": "code",
   "execution_count": 35,
   "id": "9a1ebb22",
   "metadata": {},
   "outputs": [
    {
     "data": {
      "text/plain": [
       "'lo, world!'"
      ]
     },
     "execution_count": 35,
     "metadata": {},
     "output_type": "execute_result"
    }
   ],
   "source": [
    "        'Hello, world!'[3:]"
   ]
  },
  {
   "cell_type": "raw",
   "id": "8d3d2e50",
   "metadata": {},
   "source": [
    "Q7. What are the values of the following expressions?\n",
    "    'Hello'.upper()\n",
    "    'Hello'.upper().isupper()\n",
    "    'Hello'.upper().lower()\n",
    "    \n",
    "Answer :"
   ]
  },
  {
   "cell_type": "code",
   "execution_count": 36,
   "id": "4ce8e578",
   "metadata": {},
   "outputs": [
    {
     "data": {
      "text/plain": [
       "'HELLO'"
      ]
     },
     "execution_count": 36,
     "metadata": {},
     "output_type": "execute_result"
    }
   ],
   "source": [
    "        'Hello'.upper()    "
   ]
  },
  {
   "cell_type": "code",
   "execution_count": 37,
   "id": "3ca7f7da",
   "metadata": {},
   "outputs": [
    {
     "data": {
      "text/plain": [
       "True"
      ]
     },
     "execution_count": 37,
     "metadata": {},
     "output_type": "execute_result"
    }
   ],
   "source": [
    "        'Hello'.upper().isupper()"
   ]
  },
  {
   "cell_type": "code",
   "execution_count": 38,
   "id": "3aa03ea8",
   "metadata": {},
   "outputs": [
    {
     "data": {
      "text/plain": [
       "'hello'"
      ]
     },
     "execution_count": 38,
     "metadata": {},
     "output_type": "execute_result"
    }
   ],
   "source": [
    "        'Hello'.upper().lower()"
   ]
  },
  {
   "cell_type": "raw",
   "id": "337eef79",
   "metadata": {},
   "source": [
    "8. What are the values of the following expressions?\n",
    "'Remember, remember, the fifth of July.'.split() \n",
    "'-'.join('There can only one.'.split()) \n",
    "\n",
    "Answer :"
   ]
  },
  {
   "cell_type": "code",
   "execution_count": 40,
   "id": "a5e9027c",
   "metadata": {},
   "outputs": [
    {
     "data": {
      "text/plain": [
       "['Remember,', 'remember,', 'the', 'fifth', 'of', 'July.']"
      ]
     },
     "execution_count": 40,
     "metadata": {},
     "output_type": "execute_result"
    }
   ],
   "source": [
    "        'Remember, remember, the fifth of July.'.split() "
   ]
  },
  {
   "cell_type": "code",
   "execution_count": 41,
   "id": "badc056e",
   "metadata": {},
   "outputs": [
    {
     "data": {
      "text/plain": [
       "'There-can-only-one.'"
      ]
     },
     "execution_count": 41,
     "metadata": {},
     "output_type": "execute_result"
    }
   ],
   "source": [
    "        '-'.join('There can only one.'.split()) "
   ]
  },
  {
   "cell_type": "raw",
   "id": "a5645d52",
   "metadata": {},
   "source": [
    "Q9. What are the methods for right-justifying, left-justifying, and centering a string?\n",
    "\n",
    "Answer :\n",
    "    \n",
    "        The following methods are used for justifying strings\n",
    "            1) ljust()\n",
    "            2) rjust()\n",
    "            3) center()"
   ]
  },
  {
   "cell_type": "code",
   "execution_count": 53,
   "id": "028726a7",
   "metadata": {},
   "outputs": [
    {
     "data": {
      "text/plain": [
       "'Hello-----'"
      ]
     },
     "execution_count": 53,
     "metadata": {},
     "output_type": "execute_result"
    }
   ],
   "source": [
    "        # left justified\n",
    "        str =\"Hello\"\n",
    "        str.ljust(10,\"-\")"
   ]
  },
  {
   "cell_type": "code",
   "execution_count": 52,
   "id": "f3d61e8c",
   "metadata": {},
   "outputs": [
    {
     "data": {
      "text/plain": [
       "'***************Hello'"
      ]
     },
     "execution_count": 52,
     "metadata": {},
     "output_type": "execute_result"
    }
   ],
   "source": [
    "        # right justified\n",
    "        str =\"Hello\"\n",
    "        str.rjust(20,'*')"
   ]
  },
  {
   "cell_type": "code",
   "execution_count": 55,
   "id": "a4f7f5f1",
   "metadata": {},
   "outputs": [
    {
     "data": {
      "text/plain": [
       "'*******Hello********'"
      ]
     },
     "execution_count": 55,
     "metadata": {},
     "output_type": "execute_result"
    }
   ],
   "source": [
    "        # center justified\n",
    "        str =\"Hello\"\n",
    "        str.center(20,'*')"
   ]
  },
  {
   "cell_type": "raw",
   "id": "4d126415",
   "metadata": {},
   "source": [
    "Q10. What is the best way to remove whitespace characters from the start or end?\n",
    "\n",
    "Answer :\n",
    "    \n",
    "        lstrip() -> removes white spaces from left of the string\n",
    "        rstrip() -> removes whitespaces from right of the string"
   ]
  },
  {
   "cell_type": "code",
   "execution_count": 56,
   "id": "6011d684",
   "metadata": {},
   "outputs": [
    {
     "data": {
      "text/plain": [
       "'Pratik PRATIK  '"
      ]
     },
     "execution_count": 56,
     "metadata": {},
     "output_type": "execute_result"
    }
   ],
   "source": [
    "str =\"  Pratik PRATIK  \"\n",
    "str.lstrip()"
   ]
  },
  {
   "cell_type": "code",
   "execution_count": 57,
   "id": "57034ad5",
   "metadata": {},
   "outputs": [
    {
     "data": {
      "text/plain": [
       "'  Pratik PRATIK'"
      ]
     },
     "execution_count": 57,
     "metadata": {},
     "output_type": "execute_result"
    }
   ],
   "source": [
    "str =\"  Pratik PRATIK  \"\n",
    "str.rstrip()"
   ]
  }
 ],
 "metadata": {
  "kernelspec": {
   "display_name": "Python 3 (ipykernel)",
   "language": "python",
   "name": "python3"
  },
  "language_info": {
   "codemirror_mode": {
    "name": "ipython",
    "version": 3
   },
   "file_extension": ".py",
   "mimetype": "text/x-python",
   "name": "python",
   "nbconvert_exporter": "python",
   "pygments_lexer": "ipython3",
   "version": "3.9.12"
  }
 },
 "nbformat": 4,
 "nbformat_minor": 5
}
