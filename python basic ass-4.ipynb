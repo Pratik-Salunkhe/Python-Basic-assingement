{
 "cells": [
  {
   "cell_type": "markdown",
   "id": "1612e862",
   "metadata": {},
   "source": [
    "# Assignment-4"
   ]
  },
  {
   "cell_type": "raw",
   "id": "f7747d16",
   "metadata": {},
   "source": [
    "Q1. What exactly is []?\n",
    "\n",
    "Answer :\n",
    "\n",
    "        This is the empty list value, which is a list value that contains no items. For example a = []. "
   ]
  },
  {
   "cell_type": "raw",
   "id": "f5b42577",
   "metadata": {},
   "source": [
    "Q2. In a list of values stored in a variable called spam, how would you assign the value hello' as the third value? \n",
    "    (Assume [2, 4, 6, 8, 10] are in spam.)\n",
    "    \n",
    "Answer :"
   ]
  },
  {
   "cell_type": "code",
   "execution_count": 8,
   "id": "a3b6a2b4",
   "metadata": {},
   "outputs": [
    {
     "data": {
      "text/plain": [
       "[2, 4, 'hello', 8, 10]"
      ]
     },
     "execution_count": 8,
     "metadata": {},
     "output_type": "execute_result"
    }
   ],
   "source": [
    "        spam = [2, 4, 6, 8, 10]\n",
    "        spam[2] = 'hello'\n",
    "        spam"
   ]
  },
  {
   "cell_type": "markdown",
   "id": "a635574d",
   "metadata": {},
   "source": [
    ">Lets pretend the spam includes the list ['a', 'b','c','d'] for the next three queries.\n",
    "\n",
    "\n",
    "Q3. What is the value of spam[int(int(3 * 2) / 11)]?\n",
    "\n",
    "Answer :"
   ]
  },
  {
   "cell_type": "code",
   "execution_count": 7,
   "id": "0484db05",
   "metadata": {},
   "outputs": [
    {
     "data": {
      "text/plain": [
       "'d'"
      ]
     },
     "execution_count": 7,
     "metadata": {},
     "output_type": "execute_result"
    }
   ],
   "source": [
    "        spam = ['a', 'b','c','d']\n",
    "        spam[int(int('3' * 2) / 11)]"
   ]
  },
  {
   "cell_type": "raw",
   "id": "7853d9a0",
   "metadata": {},
   "source": [
    "Q4. What is the value of spam[-1]?\n",
    "\n",
    "Answer :"
   ]
  },
  {
   "cell_type": "code",
   "execution_count": 10,
   "id": "3e63a3f4",
   "metadata": {},
   "outputs": [
    {
     "data": {
      "text/plain": [
       "'d'"
      ]
     },
     "execution_count": 10,
     "metadata": {},
     "output_type": "execute_result"
    }
   ],
   "source": [
    "        spam = ['a', 'b','c','d']    \n",
    "        spam[-1]"
   ]
  },
  {
   "cell_type": "raw",
   "id": "54d56f9e",
   "metadata": {},
   "source": [
    "Q5. What is the value of spam[:2]?\n",
    "\n",
    "Answer :"
   ]
  },
  {
   "cell_type": "code",
   "execution_count": 12,
   "id": "9899be44",
   "metadata": {},
   "outputs": [
    {
     "data": {
      "text/plain": [
       "['a', 'b']"
      ]
     },
     "execution_count": 12,
     "metadata": {},
     "output_type": "execute_result"
    }
   ],
   "source": [
    "        spam = ['a', 'b','c','d']       \n",
    "        spam[:2]"
   ]
  },
  {
   "cell_type": "markdown",
   "id": "38af7b0b",
   "metadata": {},
   "source": [
    ">Let's pretend bacon has the list [3.14, 'cat', 11, 'cat', True] for the next three questions.\n",
    "\n",
    "Q6. What is the value of bacon.index('cat')?\n",
    "\n",
    "Answer :"
   ]
  },
  {
   "cell_type": "code",
   "execution_count": 14,
   "id": "32ce8175",
   "metadata": {},
   "outputs": [
    {
     "data": {
      "text/plain": [
       "1"
      ]
     },
     "execution_count": 14,
     "metadata": {},
     "output_type": "execute_result"
    }
   ],
   "source": [
    "        bacon = [3.14, 'cat', 11, 'cat', True]\n",
    "        bacon.index('cat')"
   ]
  },
  {
   "cell_type": "raw",
   "id": "671507cc",
   "metadata": {},
   "source": [
    "Q7. How does bacon.append(99) change the look of the list value in bacon?\n",
    "\n",
    "Answer :"
   ]
  },
  {
   "cell_type": "code",
   "execution_count": 2,
   "id": "e26af33a",
   "metadata": {},
   "outputs": [
    {
     "data": {
      "text/plain": [
       "[3.14, 'cat', 11, 'cat', True, 99]"
      ]
     },
     "execution_count": 2,
     "metadata": {},
     "output_type": "execute_result"
    }
   ],
   "source": [
    "        bacon = [3.14, 'cat', 11, 'cat', True]\n",
    "        bacon.append(99)\n",
    "        bacon"
   ]
  },
  {
   "cell_type": "raw",
   "id": "62ec3aac",
   "metadata": {},
   "source": [
    "Q8. How does bacon.remove('cat') change the look of the list in bacon?\n",
    "\n",
    "Answer :"
   ]
  },
  {
   "cell_type": "code",
   "execution_count": 3,
   "id": "22ea95ba",
   "metadata": {},
   "outputs": [
    {
     "data": {
      "text/plain": [
       "[3.14, 11, 'cat', True]"
      ]
     },
     "execution_count": 3,
     "metadata": {},
     "output_type": "execute_result"
    }
   ],
   "source": [
    "        bacon = [3.14, 'cat', 11, 'cat', True]\n",
    "        bacon.remove('cat') \n",
    "        bacon"
   ]
  },
  {
   "cell_type": "raw",
   "id": "9b0514bf",
   "metadata": {},
   "source": [
    "Q9. What are the list concatenation and list replication operators?\n",
    "\n",
    "Answer :\n",
    "    \n",
    "        + is list concatination operator\n",
    "        * is list replication operatotor\n",
    "        \n",
    "        For Example>>"
   ]
  },
  {
   "cell_type": "code",
   "execution_count": 13,
   "id": "79f66ab4",
   "metadata": {},
   "outputs": [
    {
     "data": {
      "text/plain": [
       "[1, 2, 3, 4]"
      ]
     },
     "execution_count": 13,
     "metadata": {},
     "output_type": "execute_result"
    }
   ],
   "source": [
    "        # Concatination operator        \n",
    "        \n",
    "        l1 = [1,2]\n",
    "        l2 = [3,4]\n",
    "        l1+l2"
   ]
  },
  {
   "cell_type": "code",
   "execution_count": 14,
   "id": "e5a4d816",
   "metadata": {},
   "outputs": [
    {
     "data": {
      "text/plain": [
       "[1, 2, 1, 2, 1, 2]"
      ]
     },
     "execution_count": 14,
     "metadata": {},
     "output_type": "execute_result"
    }
   ],
   "source": [
    "        # Replication operatotor\n",
    "    \n",
    "        l1*3"
   ]
  },
  {
   "cell_type": "raw",
   "id": "3588d92d",
   "metadata": {},
   "source": [
    "Q10. What is difference between the list methods append() and insert()? \n",
    "\n",
    "Answer :\n",
    "\n",
    "         append() - Appends object to the end of the list, append adds the item at the end of the list. \n",
    "         insert() - Insert object before index"
   ]
  },
  {
   "cell_type": "raw",
   "id": "8d331ad3",
   "metadata": {},
   "source": [
    "Q11. What are the two methods for removing items from a list?\n",
    "\n",
    "Answer :\n",
    "    \n",
    "        1) remove(item) - removeds first occurence of a item\n",
    "        2) pop() - Remove and returns item at index (default last).\n",
    "        3) del(list) - deletes the list "
   ]
  },
  {
   "cell_type": "raw",
   "id": "2189a4e3",
   "metadata": {},
   "source": [
    "Q12. Describe how list values and string values are identical.\n",
    "\n",
    "Answer :\n",
    "    \n",
    "        1) Both lists and strings can be passed to len()\n",
    "        2) Have indexes and slices\n",
    "        3) Can be used in for loops\n",
    "        4) Can be concatenated or replicated\n",
    "        5) Can be used with the in and not in operators"
   ]
  },
  {
   "cell_type": "raw",
   "id": "1856b19b",
   "metadata": {},
   "source": [
    "# Q13. What's the difference between tuples and lists?\n",
    "\n",
    "Answer :\n",
    "    \n",
    "        Lists are mutable - they can have values added, removed, or changed. lists use the square brackets as [a,b,c].\n",
    "        Tuples are immutable; they cannot be changed at all. Tuples are written using parentheses, (a,b,c)."
   ]
  },
  {
   "cell_type": "raw",
   "id": "d6b90d81",
   "metadata": {},
   "source": [
    "# Q14. How do you type a tuple value that only contains the integer 42?\n",
    "\n",
    "Answer :"
   ]
  },
  {
   "cell_type": "code",
   "execution_count": 18,
   "id": "b3c1d280",
   "metadata": {},
   "outputs": [
    {
     "data": {
      "text/plain": [
       "42"
      ]
     },
     "execution_count": 18,
     "metadata": {},
     "output_type": "execute_result"
    }
   ],
   "source": [
    "tup = (42)\n",
    "tup"
   ]
  },
  {
   "cell_type": "raw",
   "id": "c42b1d9c",
   "metadata": {},
   "source": [
    "Q15. How do you get a list value's tuple form? How do you get a tuple value's list form?\n",
    "\n",
    "Answer :\n",
    "    \n",
    "        By using list[] and tuple() function.\n",
    "        For example >"
   ]
  },
  {
   "cell_type": "code",
   "execution_count": 19,
   "id": "d06f5067",
   "metadata": {},
   "outputs": [
    {
     "data": {
      "text/plain": [
       "[3, 4]"
      ]
     },
     "execution_count": 19,
     "metadata": {},
     "output_type": "execute_result"
    }
   ],
   "source": [
    "        t1 = (3,4)\n",
    "        t = list(t1)\n",
    "        t"
   ]
  },
  {
   "cell_type": "code",
   "execution_count": 22,
   "id": "f2196eef",
   "metadata": {},
   "outputs": [
    {
     "data": {
      "text/plain": [
       "(2, 3)"
      ]
     },
     "execution_count": 22,
     "metadata": {},
     "output_type": "execute_result"
    }
   ],
   "source": [
    "        l1 = [2,3]\n",
    "        l = tuple(l1)\n",
    "        l"
   ]
  },
  {
   "cell_type": "raw",
   "id": "e7033ea5",
   "metadata": {},
   "source": [
    "Q16. Variables that \"contain\" list values are not necessarily lists themselves. Instead, what do they contain?\n",
    "\n",
    "Answer :\n",
    "    \n",
    "        They contain references to list values"
   ]
  },
  {
   "cell_type": "raw",
   "id": "685036a0",
   "metadata": {},
   "source": [
    "Q17. How do you distinguish between copy.copy() and copy.deepcopy()?\n",
    "\n",
    "Answer :\n",
    "    \n",
    "        The copy.copy() function will do a shallow copy of a list, \n",
    "        The copy.deepcopy() function will do a deep copy of a list. only copy.deepcopy() will duplicate any lists inside the \n",
    "list"
   ]
  }
 ],
 "metadata": {
  "kernelspec": {
   "display_name": "Python 3 (ipykernel)",
   "language": "python",
   "name": "python3"
  },
  "language_info": {
   "codemirror_mode": {
    "name": "ipython",
    "version": 3
   },
   "file_extension": ".py",
   "mimetype": "text/x-python",
   "name": "python",
   "nbconvert_exporter": "python",
   "pygments_lexer": "ipython3",
   "version": "3.9.12"
  }
 },
 "nbformat": 4,
 "nbformat_minor": 5
}
