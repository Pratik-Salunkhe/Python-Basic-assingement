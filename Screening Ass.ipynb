{
 "cells": [
  {
   "cell_type": "markdown",
   "id": "58560d8e",
   "metadata": {},
   "source": [
    "# Python Screening Assignment"
   ]
  },
  {
   "cell_type": "raw",
   "id": "4ad0ba64",
   "metadata": {},
   "source": [
    "1. Create a function in python to read the text file and replace specific content\n",
    "of the file.\n",
    "\n",
    "File name = example.txt\n",
    "Origin file content = This is a placement assignment\n",
    "String Placement should be replaced by screening.\n",
    "Replaced file content This is a screening assignment\n",
    "\n",
    "Answer :\n",
    "    "
   ]
  },
  {
   "cell_type": "code",
   "execution_count": 214,
   "id": "d9ec0e14",
   "metadata": {},
   "outputs": [],
   "source": [
    "f=open(\"example.txt\",\"w\")   #  Created a file name example.txt\n",
    "f.write(\"This is a placement assignment\")    # write the original file content\n",
    "f.close()     #    file closed in write mode"
   ]
  },
  {
   "cell_type": "markdown",
   "id": "58dce484",
   "metadata": {},
   "source": [
    "> Function to read the text file"
   ]
  },
  {
   "cell_type": "code",
   "execution_count": 215,
   "id": "333e0ae0",
   "metadata": {},
   "outputs": [],
   "source": [
    "f = open(\"example.txt\",\"r\")  #  open file in read mode\n",
    "r = f.read()    #    put the f.read in a variable"
   ]
  },
  {
   "cell_type": "code",
   "execution_count": 216,
   "id": "21bdddbd",
   "metadata": {},
   "outputs": [
    {
     "data": {
      "text/plain": [
       "'This is a placement assignment'"
      ]
     },
     "execution_count": 216,
     "metadata": {},
     "output_type": "execute_result"
    }
   ],
   "source": [
    "r             #    call the variable"
   ]
  },
  {
   "cell_type": "code",
   "execution_count": 217,
   "id": "90fd35ec",
   "metadata": {},
   "outputs": [],
   "source": [
    "f.close()"
   ]
  },
  {
   "cell_type": "markdown",
   "id": "00328cc8",
   "metadata": {},
   "source": [
    "> Replacing the string 'placement' to the 'screening' in the file"
   ]
  },
  {
   "cell_type": "code",
   "execution_count": 218,
   "id": "9ef82706",
   "metadata": {},
   "outputs": [
    {
     "data": {
      "text/plain": [
       "'This is a screening assignment'"
      ]
     },
     "execution_count": 218,
     "metadata": {},
     "output_type": "execute_result"
    }
   ],
   "source": [
    "f=open(\"example.txt\",\"r\")  #  open file in read mode\n",
    "r=f.read()    #    put the f.read in a variable\n",
    "r = r.replace('placement', 'screening') #  replacing string\n",
    "f = open(\"example.txt\", \"w\")  #  writing the replaced the string in file\n",
    "f.write(r)\n",
    "f.close()\n",
    "f=open(\"example.txt\",\"r+\")  #  Reading the file\n",
    "f.readline(30)"
   ]
  },
  {
   "cell_type": "code",
   "execution_count": 219,
   "id": "43332a0e",
   "metadata": {},
   "outputs": [
    {
     "data": {
      "text/plain": [
       "0"
      ]
     },
     "execution_count": 219,
     "metadata": {},
     "output_type": "execute_result"
    }
   ],
   "source": [
    "f.truncate(0)          # function to delete the content from the file"
   ]
  },
  {
   "cell_type": "code",
   "execution_count": 220,
   "id": "1daa332a",
   "metadata": {},
   "outputs": [
    {
     "data": {
      "text/plain": [
       "''"
      ]
     },
     "execution_count": 220,
     "metadata": {},
     "output_type": "execute_result"
    }
   ],
   "source": [
    "f.read()"
   ]
  },
  {
   "cell_type": "markdown",
   "id": "01ed601c",
   "metadata": {},
   "source": [
    ">  Replacing file content"
   ]
  },
  {
   "cell_type": "code",
   "execution_count": 221,
   "id": "cd1acfae",
   "metadata": {},
   "outputs": [],
   "source": [
    "f = open(\"example.txt\", \"w\")             \n",
    "f.write(\"This is a placement assignment\")\n",
    "f.close()"
   ]
  },
  {
   "cell_type": "code",
   "execution_count": 222,
   "id": "209b2244",
   "metadata": {},
   "outputs": [],
   "source": [
    "f = open(\"example.txt\",'r')   # open file in read mode\n",
    "c = f.read()\n",
    "f.close()\n",
    "c = c.replace('This is a placement assignment','This is a screening assignment')  # replace the content  from the file\n",
    "f = open(\"example.txt\",\"w\")   # open the file in write mode\n",
    "f.write(c)\n",
    "f.close()"
   ]
  },
  {
   "cell_type": "code",
   "execution_count": 223,
   "id": "0f224d0a",
   "metadata": {},
   "outputs": [
    {
     "data": {
      "text/plain": [
       "'This is a screening assignment'"
      ]
     },
     "execution_count": 223,
     "metadata": {},
     "output_type": "execute_result"
    }
   ],
   "source": [
    "f=open(\"example.txt\",'r')\n",
    "f.read()"
   ]
  },
  {
   "cell_type": "code",
   "execution_count": null,
   "id": "2245a583",
   "metadata": {},
   "outputs": [],
   "source": []
  },
  {
   "cell_type": "raw",
   "id": "559a6e0e",
   "metadata": {},
   "source": [
    "Q2. Demonstrate use of abstract class, multiple inheritance and decorator in python using examples.\n",
    "\n",
    "Answer :\n",
    "\n",
    "        1) Abstract Class : An abstract class can be considered as a blueprint for other classes. A class which contains one or more abstract methods is called an abstract class.By default, Python does not provide abstract classes. Python comes with a module that provides the base for defining Abstract Base classes(ABC) and that module name is ABC. The ABC class defines the behavior of other classes. Abstract class can have abstract methode and concrete methodes.The object of abstract class cannot be created.\n",
    "        Example >> To create abstract class\n",
    "                   \n",
    "                   from abc import ABC,abstractmethode\n",
    "                    class abs(ABC):\n",
    "                    \n",
    "        Abstract methode - An abstract method is a method that has a declaration but does not have an implementation. Abstract method is a methode whose action is redefined in the child classes of that methode as per the object reqirement. We can declare a method as an abstract method by using @abstractmethode decorator. We use the abstract class when there are some common features shared by all the objects as they are.\n",
    "        Example >> To create an abstract method in abstract class\n",
    "        \n",
    "                    from abc import ABC,abstractmethod\n",
    "                    class abs(ABC):      # Abstract class\n",
    "                    @abstractmethod      # Decorator for abstract method\n",
    "                    def abcmethod(self): # Abstract method with no implementation only decleration\n",
    "                        pass\n",
    "         An abstract method is a method that has a declaration but does not have an implementation. While we are designing large functional units we use an abstract class. When we want to provide a common interface for different implementations of a component, we use an abstract class. By default, Python does not provide abstract classes. Python comes with a module that provides the base for defining Abstract Base classes(ABC) and that module name is ABC. ABC works by decorating methods of the base class as abstract and then registering concrete classes as implementations of the abstract base. A method becomes abstract when decorated with the keyword @abstractmethod."
   ]
  },
  {
   "cell_type": "code",
   "execution_count": 8,
   "id": "aeea5f02",
   "metadata": {},
   "outputs": [],
   "source": [
    "# Suppose if we try to create an object of abstract class then it will introduce an error\n",
    "\n",
    "from abc import ABC, abstractmethod  # import the ABC class\n",
    "class Defence (ABC):                 # create abstract class\n",
    "    @abstractmethod                  # decorator for abstract merthod while creating abstracte methode\n",
    "    def area(self):                  # create abstract methode\n",
    "        pass\n",
    "    def nation(self):                # concrete class\n",
    "        print(\"Working for INDIA\")"
   ]
  },
  {
   "cell_type": "code",
   "execution_count": 9,
   "id": "913881ae",
   "metadata": {},
   "outputs": [
    {
     "ename": "TypeError",
     "evalue": "Can't instantiate abstract class Defence with abstract method area",
     "output_type": "error",
     "traceback": [
      "\u001b[1;31m---------------------------------------------------------------------------\u001b[0m",
      "\u001b[1;31mTypeError\u001b[0m                                 Traceback (most recent call last)",
      "Input \u001b[1;32mIn [9]\u001b[0m, in \u001b[0;36m<cell line: 1>\u001b[1;34m()\u001b[0m\n\u001b[1;32m----> 1\u001b[0m Force \u001b[38;5;241m=\u001b[39m \u001b[43mDefence\u001b[49m\u001b[43m(\u001b[49m\u001b[43m)\u001b[49m\n",
      "\u001b[1;31mTypeError\u001b[0m: Can't instantiate abstract class Defence with abstract method area"
     ]
    }
   ],
   "source": [
    "Force = Defence() # the Force is an object for the abstract class called Defence"
   ]
  },
  {
   "cell_type": "code",
   "execution_count": 16,
   "id": "b3e22e09",
   "metadata": {},
   "outputs": [],
   "source": [
    "# EXAMPLE for ABSTRACT CLASS\n",
    "\n",
    "from abc import ABC, abstractmethod  # import the ABC class\n",
    "class Defence (ABC):                 # create abstract class\n",
    "    @abstractmethod                  # decorator for abstract merthod while creating abstracte methode\n",
    "    def area(self):                  # create abstract methode\n",
    "        pass\n",
    "    def nation(self):                # concrete class\n",
    "        print(\"Working for INDIA\")\n",
    "        \n",
    "class Army(Defence):                 # create a child class\n",
    "    def area(self):                  # discription of the abstract methode  \n",
    "        print(\"Army area = Land\")\n",
    "        \n",
    "class Airforce(Defence):             # create a child class\n",
    "    def area(self):                  # discription of the abstract methode\n",
    "        print(\"Air force area = sky\")\n",
    "        \n",
    "class Navy(Defence):                 # create a child class\n",
    "    def area(self):                  # discription of the abstract methode\n",
    "        print(\"Navy area = Sea\")"
   ]
  },
  {
   "cell_type": "code",
   "execution_count": 17,
   "id": "71f1e4bb",
   "metadata": {},
   "outputs": [],
   "source": [
    "# created object for the child classes\n",
    "\n",
    "A = Army()\n",
    "AF = Airforce()\n",
    "N =Navy()"
   ]
  },
  {
   "cell_type": "code",
   "execution_count": 18,
   "id": "de13df23",
   "metadata": {},
   "outputs": [
    {
     "name": "stdout",
     "output_type": "stream",
     "text": [
      "Working for INDIA\n",
      "Army area = Land\n",
      "Working for INDIA\n",
      "Air force area = sky\n",
      "Working for INDIA\n",
      "Navy area = Sea\n"
     ]
    }
   ],
   "source": [
    "A.nation() \n",
    "A.area()\n",
    "AF.nation()\n",
    "AF.area()\n",
    "N.nation()\n",
    "N.area()"
   ]
  },
  {
   "cell_type": "raw",
   "id": "0794aabd",
   "metadata": {},
   "source": [
    "Answer :\n",
    "    \n",
    "        2) Multiple Inheritance : When a class can be derived from more than one base class this type of inheritance is called multiple inheritance. In multiple inheritance, all the features of the base classes are inherited into the derived class. \n",
    "        \n",
    "        Example >>"
   ]
  },
  {
   "cell_type": "code",
   "execution_count": 23,
   "id": "defa601e",
   "metadata": {},
   "outputs": [],
   "source": [
    "# EXAMPLE FOR MULTIPLE INHERITANCE\n",
    "\n",
    "# class 1\n",
    "class school:\n",
    "    schoolname = \"\"\n",
    "    def school(self):\n",
    "        print(self.schoolname)\n",
    "        \n",
    "# class 2\n",
    "\n",
    "class address:\n",
    "    Address = \"\"\n",
    "    def address(self):\n",
    "        print(self.Address)\n",
    "        \n",
    "#class 3\n",
    "\n",
    "class info(school, address):\n",
    "    def detail(self):\n",
    "        print(\"School :\", self.schoolname)\n",
    "        print(\"Class :\", self.Address)"
   ]
  },
  {
   "cell_type": "code",
   "execution_count": 24,
   "id": "c460f857",
   "metadata": {},
   "outputs": [
    {
     "name": "stdout",
     "output_type": "stream",
     "text": [
      "School : D.E.S.E.M.S\n",
      "Class : SATARA\n"
     ]
    }
   ],
   "source": [
    "c = info()\n",
    "c.schoolname = \"D.E.S.E.M.S\"\n",
    "c.Address = \"SATARA\"\n",
    "c.detail()"
   ]
  },
  {
   "cell_type": "raw",
   "id": "fd29c46b",
   "metadata": {},
   "source": [
    "Here in the above code we have perform multiple inheritance where we have created three diffrent class with the different different functions and in that we have inherit the class 1, class 2 function in the class 3 so that we can create only one object for all the class and also call any function from any class"
   ]
  },
  {
   "cell_type": "raw",
   "id": "53b045a0",
   "metadata": {},
   "source": [
    "Answer :\n",
    "    \n",
    "        3) Decorators (@) : A decorator is a function that accepts a function as parameter and returns a function. A decorator takes the result of function , modifies the result, and returns it. Decoraters are nothing but a special method or a special function available inside the different languages which will try to give a particular position to a variable/ methode/ class. so whenever we are trying to use a decorater so by default the system is supposed to consider as a class function not as an object function"
   ]
  },
  {
   "cell_type": "raw",
   "id": "8942931f",
   "metadata": {},
   "source": [
    "EXAMPLE OF THE DECORATOR\n",
    "\n",
    "Suppose if we have writen a function to get the result as pass or fail by comparing the marks as below"
   ]
  },
  {
   "cell_type": "code",
   "execution_count": 46,
   "id": "06b0b166",
   "metadata": {},
   "outputs": [
    {
     "name": "stdout",
     "output_type": "stream",
     "text": [
      "pass\n"
     ]
    }
   ],
   "source": [
    "def result(marks):                     # function with name result\n",
    "    for i in marks:\n",
    "        if i>=35:\n",
    "            pass\n",
    "        else :\n",
    "            print(\"fail\")\n",
    "            break\n",
    "    else :\n",
    "        print(\"pass\")\n",
    "\n",
    "result([40,36,35,60, 70])              # Function call"
   ]
  },
  {
   "cell_type": "raw",
   "id": "e5407b0d",
   "metadata": {},
   "source": [
    "Now in the above code we got the result as pass as according to the code if the marks of any subject in the list are below 35 then the result will be fail. But suppose if we want to modify the functionality of result function as if suppose the marks are above 75 then with the result the distinction will be alloted for that we have to write some sort of code in result function so that we can check wheather the marks are above 75. but this modification in result function will be permanently. But suppose if we don't want to disturbed the result function permanently for that we have to create an another function which calculate distinction. but the problem is while calling the distinction function we also have to call the result function so that we can get both the output for that we create a decorator"
   ]
  },
  {
   "cell_type": "code",
   "execution_count": 66,
   "id": "5247aed8",
   "metadata": {},
   "outputs": [
    {
     "name": "stdout",
     "output_type": "stream",
     "text": [
      "Distinction class\n",
      "fail\n"
     ]
    }
   ],
   "source": [
    "def decor_result(result_function): # created a new function with an argument \n",
    "    def distinction(marks):        # created the function in function with name distinction\n",
    "        for u in marks:\n",
    "            if u <= 74:\n",
    "                pass\n",
    "            else:\n",
    "                print(\"Distinction class\")\n",
    "                break\n",
    "                    \n",
    "        result_function(marks)   \n",
    "        \n",
    "    return distinction\n",
    "@decor_result   \n",
    "def result(marks):                     # function with name result\n",
    "    for i in marks:\n",
    "        if i>=35:\n",
    "            pass\n",
    "        else :\n",
    "            print(\"fail\")\n",
    "            break\n",
    "    else :\n",
    "        print(\"pass\")\n",
    "\n",
    "result([40,36,30,75])            # Function called"
   ]
  }
 ],
 "metadata": {
  "kernelspec": {
   "display_name": "Python 3 (ipykernel)",
   "language": "python",
   "name": "python3"
  },
  "language_info": {
   "codemirror_mode": {
    "name": "ipython",
    "version": 3
   },
   "file_extension": ".py",
   "mimetype": "text/x-python",
   "name": "python",
   "nbconvert_exporter": "python",
   "pygments_lexer": "ipython3",
   "version": "3.9.12"
  }
 },
 "nbformat": 4,
 "nbformat_minor": 5
}
