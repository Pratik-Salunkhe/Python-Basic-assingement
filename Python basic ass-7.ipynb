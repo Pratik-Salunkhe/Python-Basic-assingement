{
 "cells": [
  {
   "cell_type": "markdown",
   "id": "cb02d9a2",
   "metadata": {},
   "source": [
    "# Assignment-7"
   ]
  },
  {
   "cell_type": "raw",
   "id": "032a7056",
   "metadata": {},
   "source": [
    "Q1. What is the name of the feature responsible for generating Regex objects?\n",
    "\n",
    "Answer :\n",
    "    \n",
    "        import re\n",
    "        re.compile() - > The re.compile() function returns Regex objects."
   ]
  },
  {
   "cell_type": "code",
   "execution_count": 13,
   "id": "cf4a304b",
   "metadata": {},
   "outputs": [
    {
     "data": {
      "text/plain": [
       "re.compile(r'PRATIK', re.UNICODE)"
      ]
     },
     "execution_count": 13,
     "metadata": {},
     "output_type": "execute_result"
    }
   ],
   "source": [
    "        import re\n",
    "        re.compile(\"PRATIK\")"
   ]
  },
  {
   "cell_type": "raw",
   "id": "876a99e8",
   "metadata": {},
   "source": [
    "Q2. Why do raw strings often appear in Regex objects?\n",
    "\n",
    "Answer :\n",
    "    \n",
    "        Raw strings are used so that backslashes do not have to be escaped."
   ]
  },
  {
   "cell_type": "raw",
   "id": "cae8167e",
   "metadata": {},
   "source": [
    "Q3. What is the return value of the search() method?\n",
    "\n",
    "Answer :\n",
    "    \n",
    "        The search() method searches a string for a specified value, and returns the position of the match. The search value can be string or a regular expression. This method returns -1 if no match is found"
   ]
  },
  {
   "cell_type": "raw",
   "id": "f9047392",
   "metadata": {},
   "source": [
    "Q4. From a Match item, how do you get the actual strings that match the pattern?\n",
    "\n",
    "Answer :\n",
    "    \n",
    "        Calling matchingObject.group() will return the string."
   ]
  },
  {
   "cell_type": "code",
   "execution_count": 12,
   "id": "6dc2a8f3",
   "metadata": {},
   "outputs": [
    {
     "name": "stdout",
     "output_type": "stream",
     "text": [
      "Phone number found: 12-34-56-78-90\n"
     ]
    }
   ],
   "source": [
    "        NumRegex = re.compile(r'\\d\\d-\\d\\d-\\d\\d-\\d\\d-\\d\\d')\n",
    "        mob = NumRegex.search('My number is 12-34-56-78-90.')\n",
    "        print('Phone number found: ' + mob.group())"
   ]
  },
  {
   "cell_type": "raw",
   "id": "fd79c044",
   "metadata": {},
   "source": [
    "Q5. In the regex which created from the r'(\\d\\d\\d)-(\\d\\d\\d-\\d\\d\\d\\d)', what does group zero cover? Group 2? Group 1?\n",
    "\n",
    "Answer :\n",
    "    \n",
    "        In the regex: (\\d\\d\\d)-(\\d\\d\\d-\\d\\d\\d\\d)\n",
    "        The first set of parentheses in a regex string will be group 1. The second set will be group 2. By passing the integer 1 or 2 to the group() match object method, you can grab different parts of the matched text. Passing 0 or nothing to the group() method will return the entire matched text"
   ]
  },
  {
   "cell_type": "code",
   "execution_count": 22,
   "id": "db2f1cb7",
   "metadata": {},
   "outputs": [
    {
     "data": {
      "text/plain": [
       "'415-555-4242'"
      ]
     },
     "execution_count": 22,
     "metadata": {},
     "output_type": "execute_result"
    }
   ],
   "source": [
    "        phoneNumRegex = re.compile(r'(\\d\\d\\d)-(\\d\\d\\d-\\d\\d\\d\\d)')\n",
    "        mo = phoneNumRegex.search('My number is 415-555-4242.')\n",
    "        mo.group(0)"
   ]
  },
  {
   "cell_type": "code",
   "execution_count": 25,
   "id": "2889239f",
   "metadata": {},
   "outputs": [
    {
     "data": {
      "text/plain": [
       "'415-555-4242'"
      ]
     },
     "execution_count": 25,
     "metadata": {},
     "output_type": "execute_result"
    }
   ],
   "source": [
    "        mo.group()"
   ]
  },
  {
   "cell_type": "code",
   "execution_count": 23,
   "id": "f0f98024",
   "metadata": {},
   "outputs": [
    {
     "data": {
      "text/plain": [
       "'415'"
      ]
     },
     "execution_count": 23,
     "metadata": {},
     "output_type": "execute_result"
    }
   ],
   "source": [
    "        mo.group(1)"
   ]
  },
  {
   "cell_type": "code",
   "execution_count": 24,
   "id": "48a6dbd9",
   "metadata": {},
   "outputs": [
    {
     "data": {
      "text/plain": [
       "'555-4242'"
      ]
     },
     "execution_count": 24,
     "metadata": {},
     "output_type": "execute_result"
    }
   ],
   "source": [
    "        mo.group(2)"
   ]
  },
  {
   "cell_type": "raw",
   "id": "f22c3bf3",
   "metadata": {},
   "source": [
    "Q6. In standard expression syntax, parentheses and intervals have distinct meanings. How can you tell a regex that you want it to fit real parentheses and periods?\n",
    "\n",
    "Answer :\n",
    "    \n",
    "        Periods and parentheses can be escaped with a backslash: \\., \\(, and \\)."
   ]
  },
  {
   "cell_type": "raw",
   "id": "8d397e52",
   "metadata": {},
   "source": [
    "Q7. The findall() method returns a string list or a list of string tuples. What causes it to return one of the two options?\n",
    "\n",
    "Answer :\n",
    "    \n",
    "        If the regex has no groups, a list of strings is returned. If the regex has groups, a list of tuples of strings is \n",
    "returned."
   ]
  },
  {
   "cell_type": "raw",
   "id": "ce5f97db",
   "metadata": {},
   "source": [
    "Q8. In standard expressions, what does the | character mean?\n",
    "\n",
    "Answer :\n",
    "    \n",
    "        The | character is called a pipe. You can use it anywhere you want to match one of many expressions. \n",
    "            For example, the regular expression r'Banana|Apple Fruit' will match either 'Banana' or 'Apple Fruit'.\n",
    "        When both Banana and Apple Fruit occur in the searched string, the first occurrence of matching text will be returned as the Match object.\n",
    "        The | character signifies matching “either, or” between two groups"
   ]
  },
  {
   "cell_type": "code",
   "execution_count": 35,
   "id": "03a665da",
   "metadata": {},
   "outputs": [
    {
     "data": {
      "text/plain": [
       "'Apple Fruit'"
      ]
     },
     "execution_count": 35,
     "metadata": {},
     "output_type": "execute_result"
    }
   ],
   "source": [
    "fruitRegex = re.compile (r'Banana|Apple Fruit')\n",
    "fruit = fruitRegex.search('Apple Fruit | Banana')\n",
    "fruit.group()"
   ]
  },
  {
   "cell_type": "code",
   "execution_count": 36,
   "id": "62fe8440",
   "metadata": {},
   "outputs": [
    {
     "data": {
      "text/plain": [
       "'Banana'"
      ]
     },
     "execution_count": 36,
     "metadata": {},
     "output_type": "execute_result"
    }
   ],
   "source": [
    "fruit = fruitRegex.search('Banana | Apple Fruit')\n",
    "fruit.group()"
   ]
  },
  {
   "cell_type": "raw",
   "id": "862742da",
   "metadata": {},
   "source": [
    "Q9. In regular expressions, what does the ? character stand for?\n",
    "\n",
    "Answer :\n",
    "    \n",
    "        The ? character can either mean “match zero or one of the preceding group”.Sometimes there is a pattern that you want to match only optionally. That is, the regex should find a match regardless of whether that bit of text is there. The ? character flags the group that precedes it as an optional part of the pattern."
   ]
  },
  {
   "cell_type": "code",
   "execution_count": 42,
   "id": "4fa90b4a",
   "metadata": {},
   "outputs": [
    {
     "data": {
      "text/plain": [
       "'Batman'"
      ]
     },
     "execution_count": 42,
     "metadata": {},
     "output_type": "execute_result"
    }
   ],
   "source": [
    "batRegex = re.compile(r'Bat(wo)?man')\n",
    "player = batRegex.search('The Adventures of Batman')\n",
    "player.group()"
   ]
  },
  {
   "cell_type": "code",
   "execution_count": 43,
   "id": "2c1aa26a",
   "metadata": {},
   "outputs": [
    {
     "data": {
      "text/plain": [
       "'Batwoman'"
      ]
     },
     "execution_count": 43,
     "metadata": {},
     "output_type": "execute_result"
    }
   ],
   "source": [
    "player = batRegex.search('The Adventures of Batwoman')\n",
    "player.group()"
   ]
  },
  {
   "cell_type": "raw",
   "id": "0532998e",
   "metadata": {},
   "source": [
    "Q10.In regular expressions, what is the difference between the + and * characters?\n",
    "\n",
    "Answer :\n",
    "    \n",
    "        The + matches one or more. \n",
    "        The * matches zero or more"
   ]
  },
  {
   "cell_type": "raw",
   "id": "9646f3e1",
   "metadata": {},
   "source": [
    "Q11. What is the difference between {4} and {4,5} in regular expression?\n",
    "\n",
    "Answer :\n",
    "    \n",
    "        The {4 } matches exactly four instances of the preceding group. \n",
    "        The {4,5} matches between four and five instances"
   ]
  },
  {
   "cell_type": "raw",
   "id": "7e62a8ab",
   "metadata": {},
   "source": [
    "Q12. What do you mean by the \\d, \\w, and \\s shorthand character classes signify in regular expressions?\n",
    "\n",
    "Answer :\n",
    "    \n",
    "        The \\d, stands for single digit, Any numeric digit from 0 to 9\n",
    "        The \\w, stands for single word, Any letter, numeric digit, or the underscore character. (Think of this as matching “word” \n",
    "characters.)\n",
    "        The \\s stands for single space character, Any space, tab, or newline character. (Think of this as matching “space” \n",
    "characters.)"
   ]
  },
  {
   "cell_type": "raw",
   "id": "66aacd0d",
   "metadata": {},
   "source": [
    "Q13. What do means by \\D, \\W, and \\S shorthand character classes signify in regular expressions?\n",
    "\n",
    "Answer :\n",
    "\n",
    "        The \\D stands for any character that is not a numeric digit from 0 to 9.\n",
    "        The \\W stands for any character that is not a letter, numeric digit, or the underscore character.\n",
    "        The\\S stands for any character that is not a space, tab, or newline."
   ]
  },
  {
   "cell_type": "raw",
   "id": "fa8ac9c7",
   "metadata": {},
   "source": [
    "Q14. What is the difference between .*? and .*?\n",
    "\n",
    "Answer :\n",
    "\n",
    "        .* - > The dot-star uses greedy mode: It will always try to match as much text as possible.\n",
    "        .*? - > To match any and all text in a non-greedy fashion, use the dot, star, and question mark (.*?). Like with braces, the question mark tells Python to match in a non-greedy way."
   ]
  },
  {
   "cell_type": "code",
   "execution_count": 46,
   "id": "68562f42",
   "metadata": {},
   "outputs": [
    {
     "data": {
      "text/plain": [
       "'<To serve man> for dinner.>'"
      ]
     },
     "execution_count": 46,
     "metadata": {},
     "output_type": "execute_result"
    }
   ],
   "source": [
    "greedyRegex = re.compile(r'<.*>')\n",
    "mo = greedyRegex.search('<To serve man> for dinner.>')\n",
    "mo.group()"
   ]
  },
  {
   "cell_type": "code",
   "execution_count": 47,
   "id": "a131df6f",
   "metadata": {},
   "outputs": [
    {
     "data": {
      "text/plain": [
       "'<To serve man>'"
      ]
     },
     "execution_count": 47,
     "metadata": {},
     "output_type": "execute_result"
    }
   ],
   "source": [
    "greedyRegex = re.compile(r'<.*?>')\n",
    "mo = greedyRegex.search('<To serve man> for dinner.>')\n",
    "mo.group()"
   ]
  },
  {
   "cell_type": "raw",
   "id": "88081415",
   "metadata": {},
   "source": [
    "Q15. What is the syntax for matching both numbers and lowercase letters with a character class?\n",
    "\n",
    "Answer :\n",
    "    \n",
    "        Either [0-9a-z] or [a-z0-9]"
   ]
  },
  {
   "cell_type": "code",
   "execution_count": 48,
   "id": "56b8580f",
   "metadata": {},
   "outputs": [
    {
     "data": {
      "text/plain": [
       "'1'"
      ]
     },
     "execution_count": 48,
     "metadata": {},
     "output_type": "execute_result"
    }
   ],
   "source": [
    "        reg1 = re.compile(r'[0-9a-z]')\n",
    "        reg2 = re.compile(r'[a-z0-9]')\n",
    "        mo1 = reg1.search('100 times I am Reading  this for 100 th time')\n",
    "        mo1.group()"
   ]
  },
  {
   "cell_type": "code",
   "execution_count": 49,
   "id": "f20cf575",
   "metadata": {},
   "outputs": [
    {
     "data": {
      "text/plain": [
       "'t'"
      ]
     },
     "execution_count": 49,
     "metadata": {},
     "output_type": "execute_result"
    }
   ],
   "source": [
    "        reg2 = re.compile(r'[a-z0-9]')\n",
    "        mo1 = reg2.search('times I am Reading  this for 100 th time')\n",
    "        mo1.group()"
   ]
  },
  {
   "cell_type": "raw",
   "id": "df1befa1",
   "metadata": {},
   "source": [
    "Q16. What is the procedure for making a normal expression in regax case insensitive?\n",
    "\n",
    "Answer :\n",
    "    \n",
    "        Passing re.I or re.IGNORECASE as the second argument to re.compile() will make the matching case insensitive"
   ]
  },
  {
   "cell_type": "code",
   "execution_count": 55,
   "id": "daa73170",
   "metadata": {},
   "outputs": [
    {
     "data": {
      "text/plain": [
       "'Machine'"
      ]
     },
     "execution_count": 55,
     "metadata": {},
     "output_type": "execute_result"
    }
   ],
   "source": [
    "        casesen = re.compile(r'machine', re.I)\n",
    "        casesen.search('Machine learning is part of data science').group()"
   ]
  },
  {
   "cell_type": "code",
   "execution_count": 56,
   "id": "b6e22c14",
   "metadata": {},
   "outputs": [
    {
     "data": {
      "text/plain": [
       "'MACHINE'"
      ]
     },
     "execution_count": 56,
     "metadata": {},
     "output_type": "execute_result"
    }
   ],
   "source": [
    "        casesen.search('MACHINE is learning.').group()"
   ]
  },
  {
   "cell_type": "raw",
   "id": "6362ffb8",
   "metadata": {},
   "source": [
    "Q17. What does the . character normally match? What does it match if re.DOTALL is passed as 2nd argument in re.compile()?\n",
    "\n",
    "Answer:\n",
    "    \n",
    "        The . character normally matches any character except the newline character. If re.DOTALL is passed as the second argument to re.compile(), then the dot will also match newline characters"
   ]
  },
  {
   "cell_type": "raw",
   "id": "0935b8ec",
   "metadata": {},
   "source": [
    "Q18. If numRegex = re.compile(r'\\d+'), what will numRegex.sub('X', '11 drummers, 10 pipers, five rings, 4 hen') return?\n",
    "\n",
    "Answer :"
   ]
  },
  {
   "cell_type": "code",
   "execution_count": 57,
   "id": "ff7c640b",
   "metadata": {},
   "outputs": [
    {
     "data": {
      "text/plain": [
       "'X drummers, X pipers, five rings, X hen'"
      ]
     },
     "execution_count": 57,
     "metadata": {},
     "output_type": "execute_result"
    }
   ],
   "source": [
    "        numRegex = re.compile(r'\\d+')\n",
    "        mo = numRegex.sub('X', '11 drummers, 10 pipers, five rings, 4 hen')\n",
    "        mo"
   ]
  },
  {
   "cell_type": "raw",
   "id": "960ec91e",
   "metadata": {},
   "source": [
    "Q19. What does passing re.VERBOSE as the 2nd argument to re.compile() allow to do?\n",
    "\n",
    "Answer :\n",
    "    \n",
    "        The re.VERBOSE argument allows you to add whitespace and comments to the string passed to re.compile()"
   ]
  },
  {
   "cell_type": "raw",
   "id": "10f184ab",
   "metadata": {},
   "source": [
    "Q20. How would you write a regex that match a number with comma for every three digits? It must match the given following:\n",
    "    '42'\n",
    "    '1,234'\n",
    "    '6,368,745'\n",
    "    but not the following:\n",
    "    '12,34,567' (which has only two digits between the commas)\n",
    "    '1234' (which lacks commas)\n",
    "    \n",
    "Answer :"
   ]
  },
  {
   "cell_type": "code",
   "execution_count": 74,
   "id": "9c3c6adc",
   "metadata": {},
   "outputs": [
    {
     "data": {
      "text/plain": [
       "'42'"
      ]
     },
     "execution_count": 74,
     "metadata": {},
     "output_type": "execute_result"
    }
   ],
   "source": [
    "        reg1 = re.compile(r'^\\d{1,3}(,\\d{3})*$')\n",
    "        mo1 = reg1.search('42')\n",
    "        mo1.group()"
   ]
  },
  {
   "cell_type": "code",
   "execution_count": 75,
   "id": "30ab8b82",
   "metadata": {},
   "outputs": [
    {
     "data": {
      "text/plain": [
       "'1,234'"
      ]
     },
     "execution_count": 75,
     "metadata": {},
     "output_type": "execute_result"
    }
   ],
   "source": [
    "        reg1 = re.compile(r'^\\d{1,3}(,\\d{3})*$')\n",
    "        mo1 = reg1.search('1,234')\n",
    "        mo1.group()"
   ]
  },
  {
   "cell_type": "code",
   "execution_count": 76,
   "id": "480ac758",
   "metadata": {},
   "outputs": [
    {
     "data": {
      "text/plain": [
       "'6,368,745'"
      ]
     },
     "execution_count": 76,
     "metadata": {},
     "output_type": "execute_result"
    }
   ],
   "source": [
    "        reg1 = re.compile(r'^\\d{1,3}(,\\d{3})*$')\n",
    "        mo1 = reg1.search('6,368,745')\n",
    "        mo1.group()"
   ]
  },
  {
   "cell_type": "raw",
   "id": "cd9e92ed",
   "metadata": {},
   "source": [
    "Q21. How would you write a regex that matches the full name of someone whose last name is Watanabe? You can assume that the first name that comes before it will always be one word that begins with a capital letter. The regex must match the following:\n",
    "    'Haruto Watanabe'\n",
    "    'Alice Watanabe'\n",
    "    'RoboCop Watanabe'\n",
    "    but not the following:\n",
    "    'haruto Watanabe' (where the first name is not capitalized)\n",
    "    'Mr. Watanabe' (where the preceding word has a nonletter character)\n",
    "    'Watanabe' (which has no first name)\n",
    "    'Haruto watanabe' (where Watanabe is not capitalized.\n",
    "    \n",
    "Answer :"
   ]
  },
  {
   "cell_type": "code",
   "execution_count": 67,
   "id": "1f3a0b7c",
   "metadata": {},
   "outputs": [
    {
     "data": {
      "text/plain": [
       "'Haruto Watanabe'"
      ]
     },
     "execution_count": 67,
     "metadata": {},
     "output_type": "execute_result"
    }
   ],
   "source": [
    "        name = re.compile(r'[A-Z][a-z]*\\sWatanabe')\n",
    "        reg1 = re.compile(r'^\\d{1,3}(,\\d{haruto Watanabe3})*$')\n",
    "        mo1 = name.search('Haruto Watanabe')\n",
    "        mo1.group()"
   ]
  },
  {
   "cell_type": "code",
   "execution_count": 77,
   "id": "86c535b4",
   "metadata": {},
   "outputs": [
    {
     "data": {
      "text/plain": [
       "'Alice Watanabe'"
      ]
     },
     "execution_count": 77,
     "metadata": {},
     "output_type": "execute_result"
    }
   ],
   "source": [
    "        name = re.compile(r'[A-Z][a-z]*\\sWatanabe')\n",
    "        reg1 = re.compile(r'^\\d{1,3}(,\\d{3})*$')\n",
    "        mo1 = name.search('Alice Watanabe')\n",
    "        mo1.group()"
   ]
  },
  {
   "cell_type": "code",
   "execution_count": 78,
   "id": "46f7ef90",
   "metadata": {},
   "outputs": [
    {
     "data": {
      "text/plain": [
       "'Robocop Watanabe'"
      ]
     },
     "execution_count": 78,
     "metadata": {},
     "output_type": "execute_result"
    }
   ],
   "source": [
    "        name = re.compile(r'[A-Z][a-z]*\\sWatanabe')\n",
    "        reg1 = re.compile(r'^\\d{1,3}(,\\d{3})*$')\n",
    "        mo1 = name.search('Robocop Watanabe')\n",
    "        mo1.group()"
   ]
  },
  {
   "cell_type": "code",
   "execution_count": 79,
   "id": "b61b0140",
   "metadata": {},
   "outputs": [
    {
     "ename": "AttributeError",
     "evalue": "'NoneType' object has no attribute 'group'",
     "output_type": "error",
     "traceback": [
      "\u001b[1;31m---------------------------------------------------------------------------\u001b[0m",
      "\u001b[1;31mAttributeError\u001b[0m                            Traceback (most recent call last)",
      "Input \u001b[1;32mIn [79]\u001b[0m, in \u001b[0;36m<cell line: 4>\u001b[1;34m()\u001b[0m\n\u001b[0;32m      2\u001b[0m reg1 \u001b[38;5;241m=\u001b[39m re\u001b[38;5;241m.\u001b[39mcompile(\u001b[38;5;124mr\u001b[39m\u001b[38;5;124m'\u001b[39m\u001b[38;5;124m^\u001b[39m\u001b[38;5;124m\\\u001b[39m\u001b[38;5;124md\u001b[39m\u001b[38;5;124m{\u001b[39m\u001b[38;5;124m1,3}(,\u001b[39m\u001b[38;5;124m\\\u001b[39m\u001b[38;5;124md\u001b[39m\u001b[38;5;132;01m{3}\u001b[39;00m\u001b[38;5;124m)*$\u001b[39m\u001b[38;5;124m'\u001b[39m)\n\u001b[0;32m      3\u001b[0m mo1 \u001b[38;5;241m=\u001b[39m name\u001b[38;5;241m.\u001b[39msearch(\u001b[38;5;124m'\u001b[39m\u001b[38;5;124mharuto Watanabe\u001b[39m\u001b[38;5;124m'\u001b[39m)\n\u001b[1;32m----> 4\u001b[0m \u001b[43mmo1\u001b[49m\u001b[38;5;241;43m.\u001b[39;49m\u001b[43mgroup\u001b[49m()\n",
      "\u001b[1;31mAttributeError\u001b[0m: 'NoneType' object has no attribute 'group'"
     ]
    }
   ],
   "source": [
    "        name = re.compile(r'[A-Z][a-z]*\\sWatanabe')\n",
    "        reg1 = re.compile(r'^\\d{1,3}(,\\d{3})*$')\n",
    "        mo1 = name.search('haruto Watanabe')\n",
    "        mo1.group()"
   ]
  },
  {
   "cell_type": "raw",
   "id": "61ce814e",
   "metadata": {},
   "source": [
    "Q22. How would you write a regex that matches a sentence where the first word is either Alice, Bob,or Carol; the second word is either eats, pets, or throws; the third word is apples, cats, or baseballs; and the sentence ends with a period? This regex should be case-insensitive. It must match the following:\n",
    "    'Alice eats apples.'\n",
    "    'Bob pets cats.'\n",
    "    'Carol throws baseballs.'\n",
    "    'Alice throws Apples.'\n",
    "    'BOB EATS CATS.'\n",
    "    but not the following:\n",
    "    'RoboCop eats apples.'\n",
    "    'ALICE THROWS FOOTBALLS.'\n",
    "    'Carol eats 7 cats.'\n",
    "    \n",
    "Answer :"
   ]
  },
  {
   "cell_type": "code",
   "execution_count": 80,
   "id": "1999c5c6",
   "metadata": {},
   "outputs": [
    {
     "data": {
      "text/plain": [
       "'Alice eats apples.'"
      ]
     },
     "execution_count": 80,
     "metadata": {},
     "output_type": "execute_result"
    }
   ],
   "source": [
    "        name = re.compile(r'(Alice|Bob|Carol)\\s(eats|pets|throws)\\s(apples|cats|baseballs)\\.', re.IGNORECASE)\n",
    "        mo1 = name.search('Alice eats apples.')\n",
    "        mo1.group()\n"
   ]
  },
  {
   "cell_type": "code",
   "execution_count": 81,
   "id": "81d80cc1",
   "metadata": {},
   "outputs": [
    {
     "data": {
      "text/plain": [
       "'Carol throws baseballs.'"
      ]
     },
     "execution_count": 81,
     "metadata": {},
     "output_type": "execute_result"
    }
   ],
   "source": [
    "        name = re.compile(r'(Alice|Bob|Carol)\\s(eats|pets|throws)\\s(apples|cats|baseballs)\\.', re.IGNORECASE)\n",
    "        mo1 = name.search('Carol throws baseballs.')\n",
    "        mo1.group()"
   ]
  }
 ],
 "metadata": {
  "kernelspec": {
   "display_name": "Python 3 (ipykernel)",
   "language": "python",
   "name": "python3"
  },
  "language_info": {
   "codemirror_mode": {
    "name": "ipython",
    "version": 3
   },
   "file_extension": ".py",
   "mimetype": "text/x-python",
   "name": "python",
   "nbconvert_exporter": "python",
   "pygments_lexer": "ipython3",
   "version": "3.9.12"
  }
 },
 "nbformat": 4,
 "nbformat_minor": 5
}
