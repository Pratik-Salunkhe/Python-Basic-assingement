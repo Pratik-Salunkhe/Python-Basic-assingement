{
 "cells": [
  {
   "cell_type": "markdown",
   "id": "fe32c15b",
   "metadata": {},
   "source": [
    "# Assignment-1"
   ]
  },
  {
   "cell_type": "raw",
   "id": "a4aa44b0",
   "metadata": {},
   "source": [
    "Q1. In the below elements which of them are values or an expression? eg:-  values can be \n",
    "    integer or string and expressions will be mathematical operators.\n",
    "   \n",
    "   \n",
    ". *\n",
    ". hello\n",
    ". -87.8\n",
    ". -\n",
    ". /\n",
    ". +\n",
    ". 6\n",
    "\n",
    "\n",
    "Answer :\n",
    "\n",
    "    1) Following are operators >>\n",
    "         *, +, -, /, \n",
    "         \n",
    "    2) Following are values >> \n",
    "         hello, -87.8, 6"
   ]
  },
  {
   "cell_type": "raw",
   "id": "77aeff9b",
   "metadata": {},
   "source": [
    "Q2. What is the difference between string and variable?\n",
    "\n",
    "Answer :\n",
    "      \n",
    "      1) String : String represent a value in the form of text which is enclosed in the two single quotes or two double quotes.\n",
    "        Example >> 'Pratik' OR \"Pratik\"   \n",
    "    \n",
    "      2) Variable : Variable is a name given to the memory location where the value is stored in the memory values can be of any type.\n",
    "        Example >> A = 1, B = 2.2, C = 'pratik'"
   ]
  },
  {
   "cell_type": "markdown",
   "id": "8e861557",
   "metadata": {},
   "source": [
    "Q3. Describe three different data types.\n",
    "\n",
    "Answer :\n",
    "\n",
    "       1) integer : A positive or a negative whole number without a decimal point. \n",
    "           Example >> 20 or -20 \n",
    "           \n",
    "       2) float : A positive or negative number with a decimal point.\n",
    "           Example >> 19.9 or -19.9\n",
    "           \n",
    "       3) string : It is the value in the form of text which is enclosed in the single or double quote.\n",
    "           Example >> 'INEURON' or \"INEURON\""
   ]
  },
  {
   "cell_type": "code",
   "execution_count": 1,
   "id": "c7c5976b",
   "metadata": {},
   "outputs": [
    {
     "data": {
      "text/plain": [
       "int"
      ]
     },
     "execution_count": 1,
     "metadata": {},
     "output_type": "execute_result"
    }
   ],
   "source": [
    "a=20\n",
    "type(a)"
   ]
  },
  {
   "cell_type": "code",
   "execution_count": 2,
   "id": "19b4db34",
   "metadata": {},
   "outputs": [
    {
     "data": {
      "text/plain": [
       "float"
      ]
     },
     "execution_count": 2,
     "metadata": {},
     "output_type": "execute_result"
    }
   ],
   "source": [
    "b= -19.9\n",
    "type(b)"
   ]
  },
  {
   "cell_type": "code",
   "execution_count": 4,
   "id": "448551da",
   "metadata": {},
   "outputs": [
    {
     "data": {
      "text/plain": [
       "str"
      ]
     },
     "execution_count": 4,
     "metadata": {},
     "output_type": "execute_result"
    }
   ],
   "source": [
    "c = \"INEURON\"\n",
    "type(c)"
   ]
  },
  {
   "cell_type": "markdown",
   "id": "64d21942",
   "metadata": {},
   "source": [
    "Q4. What is an expression made up of? What do all expressions do?\n",
    "\n",
    "Answer :\n",
    "    \n",
    "        An expression is a combination of operators, constants and variables. An expression may consist of one or more operands, and zero or more operators to produce a value. There are various types of expression\n",
    "        \n",
    "1. Constant Expressions: These are the expressions that have constant values only. Example >> x = 15 + 1.3\n",
    "        \n",
    "2. Arithmetic Expressions: An arithmetic expression is a combination of numeric values, operators, and sometimes parenthesis. The result of this type of expression is also a numeric value. The operators used in these expressions are arithmetic operators like addition, subtraction, etc. \n",
    "    \n",
    "    Example >> x = 40, y = 12\n",
    "               add = x + y\n",
    "               sub = x - y\n",
    "               pro = x * y\n",
    "               div = x / y\n",
    "               \n",
    "3. Logical Expressions: These are kinds of expressions that result in either True or False. It basically specifies one or more conditions.\n",
    "    \n",
    "    Example >> P = (10 == 9), Q = (7 > 5)\n",
    "               R = P and Q\n",
    "               S = P or Q\n",
    "               T = not P"
   ]
  },
  {
   "cell_type": "code",
   "execution_count": 5,
   "id": "82039b75",
   "metadata": {},
   "outputs": [
    {
     "name": "stdout",
     "output_type": "stream",
     "text": [
      "16.3\n"
     ]
    }
   ],
   "source": [
    "x = 15 + 1.3\n",
    "print(x)"
   ]
  },
  {
   "cell_type": "code",
   "execution_count": 8,
   "id": "b2b503ca",
   "metadata": {},
   "outputs": [
    {
     "name": "stdout",
     "output_type": "stream",
     "text": [
      "52 28 480 3.3333333333333335\n"
     ]
    }
   ],
   "source": [
    "x = 40\n",
    "y = 12\n",
    "add = x + y\n",
    "sub = x - y\n",
    "pro = x * y\n",
    "div = x / y\n",
    "print(add , sub , pro , div)"
   ]
  },
  {
   "cell_type": "code",
   "execution_count": 9,
   "id": "31231563",
   "metadata": {},
   "outputs": [
    {
     "name": "stdout",
     "output_type": "stream",
     "text": [
      "False True True\n"
     ]
    }
   ],
   "source": [
    "P = (10 == 9)\n",
    "Q = (7 > 5)\n",
    "R = P and Q\n",
    "S = P or Q\n",
    "T = not P\n",
    "\n",
    "print(R , S , T)"
   ]
  },
  {
   "cell_type": "raw",
   "id": "1512bc78",
   "metadata": {},
   "source": [
    "Q5. This assignment statements, like spam = 10. What is the difference between an expression and a statement?\n",
    "\n",
    "Answer :\n",
    "\n",
    "        1) Assignment statement : Here the assignment statement assign the value to the variable in above statement (spam =10) the value 10 is assigned to the variable spam.\n",
    "         \n",
    "        2) Expression : The expression evaluate the value to the variable like if (a=b+c) here the value of a depends on value of b and c"
   ]
  },
  {
   "cell_type": "raw",
   "id": "a2df483b",
   "metadata": {},
   "source": [
    "Q6. After running the following code, what does the variable bacon contain?\n",
    "    bacon = 22\n",
    "    bacon + 1\n",
    "\n",
    "Answer : \n",
    "        \n",
    "        The value of bacon will be 23 after executing the following code as the bacon is assigned with the value 22 and when we call bacon+1 then it will take the bacon as 22 and then it will add 1 in it and then it will execute and give the output"
   ]
  },
  {
   "cell_type": "code",
   "execution_count": 16,
   "id": "158db3f3",
   "metadata": {},
   "outputs": [
    {
     "data": {
      "text/plain": [
       "23"
      ]
     },
     "execution_count": 16,
     "metadata": {},
     "output_type": "execute_result"
    }
   ],
   "source": [
    "bacon = 22\n",
    "bacon+1"
   ]
  },
  {
   "cell_type": "raw",
   "id": "aff496d5",
   "metadata": {},
   "source": [
    "Q7. What should the values of the following two terms be?\n",
    "    'spam'+ 'spamspam'\n",
    "    'spam' * 3\n",
    "    \n",
    "Answer : \n",
    "     \n",
    "        The output of both the terms will be same as 'spamspamspam' "
   ]
  },
  {
   "cell_type": "code",
   "execution_count": 18,
   "id": "f8cb0df7",
   "metadata": {},
   "outputs": [
    {
     "data": {
      "text/plain": [
       "'spamspamspam'"
      ]
     },
     "execution_count": 18,
     "metadata": {},
     "output_type": "execute_result"
    }
   ],
   "source": [
    "'spam'+'spamspam'"
   ]
  },
  {
   "cell_type": "code",
   "execution_count": 19,
   "id": "95325f63",
   "metadata": {},
   "outputs": [
    {
     "data": {
      "text/plain": [
       "'spamspamspam'"
      ]
     },
     "execution_count": 19,
     "metadata": {},
     "output_type": "execute_result"
    }
   ],
   "source": [
    "'spam'*3"
   ]
  },
  {
   "cell_type": "raw",
   "id": "a8f5378f",
   "metadata": {},
   "source": [
    "Q8. Why is eggs a valid variable name while 100 is invalid?\n",
    "\n",
    "Answer :\n",
    "\n",
    "        Variable name can not starts with numbers. that's why the egg is a valid variable name while 100 is not a valid name for variable."
   ]
  },
  {
   "cell_type": "code",
   "execution_count": 22,
   "id": "15629ccd",
   "metadata": {},
   "outputs": [
    {
     "data": {
      "text/plain": [
       "12"
      ]
     },
     "execution_count": 22,
     "metadata": {},
     "output_type": "execute_result"
    }
   ],
   "source": [
    "egg = 12\n",
    "egg"
   ]
  },
  {
   "cell_type": "code",
   "execution_count": 23,
   "id": "1341fcd8",
   "metadata": {},
   "outputs": [
    {
     "ename": "SyntaxError",
     "evalue": "cannot assign to literal (Temp/ipykernel_11760/140979359.py, line 1)",
     "output_type": "error",
     "traceback": [
      "\u001b[1;36m  File \u001b[1;32m\"C:\\Users\\djrus\\AppData\\Local\\Temp/ipykernel_11760/140979359.py\"\u001b[1;36m, line \u001b[1;32m1\u001b[0m\n\u001b[1;33m    100 = quantity\u001b[0m\n\u001b[1;37m    ^\u001b[0m\n\u001b[1;31mSyntaxError\u001b[0m\u001b[1;31m:\u001b[0m cannot assign to literal\n"
     ]
    }
   ],
   "source": [
    "100 = quantity"
   ]
  },
  {
   "cell_type": "raw",
   "id": "87e0a5d4",
   "metadata": {},
   "source": [
    "Q9. What three functions can be used to get the integer, floating-point number, or string\n",
    "    version of a value?\n",
    "    \n",
    "Answer : \n",
    "\n",
    "        1) For integer the function used is int()\n",
    "        2) For floating-point number the function used is float()\n",
    "        3) For string the function used is str()"
   ]
  },
  {
   "cell_type": "raw",
   "id": "2cdbc2b6",
   "metadata": {},
   "source": [
    "Q10. Why does this expression cause an error? How can you fix it?\n",
    "     'I have eaten' + 99 + 'burritos'\n",
    "\n",
    "Answer : \n",
    "\n",
    "        This will error out since string concatination with interger values can not be performed.\n",
    "This can be fixed by converting 99 into string by str(99) as shown below."
   ]
  },
  {
   "cell_type": "code",
   "execution_count": 24,
   "id": "8c81e132",
   "metadata": {},
   "outputs": [
    {
     "ename": "TypeError",
     "evalue": "can only concatenate str (not \"int\") to str",
     "output_type": "error",
     "traceback": [
      "\u001b[1;31m---------------------------------------------------------------------------\u001b[0m",
      "\u001b[1;31mTypeError\u001b[0m                                 Traceback (most recent call last)",
      "\u001b[1;32m~\\AppData\\Local\\Temp/ipykernel_11760/2733022945.py\u001b[0m in \u001b[0;36m<module>\u001b[1;34m\u001b[0m\n\u001b[1;32m----> 1\u001b[1;33m \u001b[1;34m'I have eaten'\u001b[0m \u001b[1;33m+\u001b[0m \u001b[1;36m99\u001b[0m \u001b[1;33m+\u001b[0m \u001b[1;34m'burritos'\u001b[0m\u001b[1;33m\u001b[0m\u001b[1;33m\u001b[0m\u001b[0m\n\u001b[0m",
      "\u001b[1;31mTypeError\u001b[0m: can only concatenate str (not \"int\") to str"
     ]
    }
   ],
   "source": [
    "'I have eaten' + 99 + 'burritos'"
   ]
  },
  {
   "cell_type": "code",
   "execution_count": null,
   "id": "347a18c3",
   "metadata": {},
   "outputs": [],
   "source": []
  }
 ],
 "metadata": {
  "kernelspec": {
   "display_name": "Python 3 (ipykernel)",
   "language": "python",
   "name": "python3"
  },
  "language_info": {
   "codemirror_mode": {
    "name": "ipython",
    "version": 3
   },
   "file_extension": ".py",
   "mimetype": "text/x-python",
   "name": "python",
   "nbconvert_exporter": "python",
   "pygments_lexer": "ipython3",
   "version": "3.9.12"
  }
 },
 "nbformat": 4,
 "nbformat_minor": 5
}
