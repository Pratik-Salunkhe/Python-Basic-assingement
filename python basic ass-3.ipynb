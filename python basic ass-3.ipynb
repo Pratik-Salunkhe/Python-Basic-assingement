{
 "cells": [
  {
   "cell_type": "markdown",
   "id": "b90c1de2",
   "metadata": {},
   "source": [
    "# Assignment-3"
   ]
  },
  {
   "cell_type": "raw",
   "id": "906a4014",
   "metadata": {},
   "source": [
    "Q1. Why are functions advantageous to have in your programs?\n",
    "\n",
    "Answer : \n",
    "\n",
    "        1) The advantages of using functions are:\n",
    "        2) Reduces chances of error.\n",
    "        3) Avoid repetition of codes.\n",
    "        4) Increases program readability and modularity\n",
    "        5) Divide a complex problem into simpler ones.\n",
    "        6) Modifying a program becomes easier by using function."
   ]
  },
  {
   "cell_type": "raw",
   "id": "8cafa036",
   "metadata": {},
   "source": [
    "Q2. When does the code in a function run: when it's specified or when it's called?\n",
    "\n",
    "Answer :\n",
    "\n",
    "        The code in the function executes when the function is called not when it is defined. "
   ]
  },
  {
   "cell_type": "raw",
   "id": "65cef332",
   "metadata": {},
   "source": [
    "Q3. What statement creates a function?\n",
    "\n",
    "Answer :\n",
    "\n",
    "        The \"def function_name ():\" creates a function.\n",
    "        For Example:\n",
    "        \n",
    "        def test(): # test is a function name and def is a function"
   ]
  },
  {
   "cell_type": "raw",
   "id": "13b22331",
   "metadata": {},
   "source": [
    "Q4. What is the difference between a function and a function call?\n",
    "\n",
    "Answer :\n",
    "    \n",
    "        A function is a block of code that does a particular operation and returns a result. It usually accepts inputs as \n",
    "parameters and returns a result. The parameters are not mandatory and a Function call is the code used to pass control to a function"
   ]
  },
  {
   "cell_type": "raw",
   "id": "9ba7263e",
   "metadata": {},
   "source": [
    "Q5. How many global scopes are there in a Python program? How many local scopes?\n",
    "\n",
    "Answer :\n",
    "\n",
    "        There is one global scope in python and the local scope is created whenever the function is called.The scope of global variables is the entire program whereas the scope of local variable is limited to the function where it is defined."
   ]
  },
  {
   "cell_type": "raw",
   "id": "f48b8ce6",
   "metadata": {},
   "source": [
    "Q6. What happens to variables in a local scope when the function call returns?\n",
    "\n",
    "Answer :\n",
    "    \n",
    "        When a function returns, the local scope is destroyed, and all the variables in it are forgotten. we will not be able to access the out side the functio"
   ]
  },
  {
   "cell_type": "raw",
   "id": "9a5879a4",
   "metadata": {},
   "source": [
    "Q7. What is the concept of a return value? Is it possible to have a return value in an expression?\n",
    "\n",
    "Answer :\n",
    "\n",
    "        A return is a value that a function returns to the calling script or function when it completes its task. A return value can be any one of the four variable types: handle, integer, object, or string. The type of value your function returns depends largely on the task it performs. A return value can be used as part of an expression, Like any value."
   ]
  },
  {
   "cell_type": "raw",
   "id": "7800547b",
   "metadata": {},
   "source": [
    "Q8. If a function does not have a return statement, what is the return value of a call to that function?\n",
    "\n",
    "Answer :\n",
    "\n",
    "        If a function does not have a return statement, then the return value of a call to that function will be None ."
   ]
  },
  {
   "cell_type": "raw",
   "id": "8fb8157e",
   "metadata": {},
   "source": [
    "Q9. How do you make a function variable refer to the global variable?\n",
    "\n",
    "Answer :\n",
    "\n",
    "        By representing a valible by global keywaord in the body of a function Example : global a."
   ]
  },
  {
   "cell_type": "raw",
   "id": "81391f2f",
   "metadata": {},
   "source": [
    "Q10. What is the data type of None?\n",
    "\n",
    "Answer :\n",
    "    \n",
    "        The data type of none is NoneType."
   ]
  },
  {
   "cell_type": "raw",
   "id": "995134eb",
   "metadata": {},
   "source": [
    "Q11. What does the sentence import areallyourpetsnamederic do?\n",
    "\n",
    "Answer :\n",
    "    \n",
    "    \n",
    "        areallyourpetsnamederic ia not a python module. Importing this module will throughs ModuleNotFoundError exception as below\n",
    "        \n",
    "        ERROR\n",
    "        ---------------------------------------------------------------------------\n",
    "        ModuleNotFoundError                       Traceback (most recent call last)\n",
    "        <ipython-input-1-b1ea9cb2228f> in <module>\n",
    "        ----> 1 import areallyourpetsnamederic\n",
    "\n",
    "        ModuleNotFoundError: No module named 'areallyourpetsnamederic'"
   ]
  },
  {
   "cell_type": "raw",
   "id": "ddbed6e7",
   "metadata": {},
   "source": [
    "Q12. If you had a bacon() feature in a spam module, what would you call it after importing spam?\n",
    "\n",
    "Answer :\n",
    "    \n",
    "        To call the bacon() function after importing spam then \n",
    "        \n",
    "        import spam\n",
    "        spam.bacon()"
   ]
  },
  {
   "cell_type": "raw",
   "id": "6eff2a23",
   "metadata": {},
   "source": [
    "Q13. What can you do to save a programme from crashing if it encounters an error?\n",
    "\n",
    "Answer :\n",
    "    \n",
    "        If we want to save the program from crashing then we have to write lines of code in try block. This will not crash the programme. And in except block we can catch the exception."
   ]
  },
  {
   "cell_type": "raw",
   "id": "8606737d",
   "metadata": {},
   "source": [
    "Q14. What is the purpose of the try clause? What is the purpose of the except clause?\n",
    "\n",
    "Answer :\n",
    "\n",
    "        Try : The code that could potentially cause an error goes in the try clause.\n",
    "        Except : The code that executes if an error happens goes in the except clause, like print statments about exceptions,\n",
    "loggin statements"
   ]
  }
 ],
 "metadata": {
  "kernelspec": {
   "display_name": "Python 3 (ipykernel)",
   "language": "python",
   "name": "python3"
  },
  "language_info": {
   "codemirror_mode": {
    "name": "ipython",
    "version": 3
   },
   "file_extension": ".py",
   "mimetype": "text/x-python",
   "name": "python",
   "nbconvert_exporter": "python",
   "pygments_lexer": "ipython3",
   "version": "3.9.12"
  }
 },
 "nbformat": 4,
 "nbformat_minor": 5
}
