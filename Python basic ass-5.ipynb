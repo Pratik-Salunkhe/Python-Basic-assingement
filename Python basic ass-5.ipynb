{
 "cells": [
  {
   "cell_type": "markdown",
   "id": "2030129e",
   "metadata": {},
   "source": [
    "# Assignment-5"
   ]
  },
  {
   "cell_type": "markdown",
   "id": "e13b634a",
   "metadata": {},
   "source": [
    "Q1. What does an empty dictionary's code look like?\n",
    "\n",
    "Answer :\n",
    "\n",
    "    dict = {}\n",
    "    type(dict)\n",
    "    >>dict #(output)"
   ]
  },
  {
   "cell_type": "markdown",
   "id": "eaa98c59",
   "metadata": {},
   "source": [
    "Q2. What is the value of a dictionary value with the key 'foo' and the value 42?\n",
    "\n",
    "Answer :\n",
    "    \n",
    "        d = {'foo':42}\n",
    "        here the value of dictionary will be 42 and its key will be 'foo'"
   ]
  },
  {
   "cell_type": "markdown",
   "id": "15dfe0f0",
   "metadata": {},
   "source": [
    "Q3. What is the most significant distinction between a dictionary and a list?\n",
    "\n",
    "Answer :\n",
    "    \n",
    "        Most significant difference:\n",
    "        List : The items in list are Ordered\n",
    "        Dictionary : The items in dictionary are unordered"
   ]
  },
  {
   "cell_type": "markdown",
   "id": "9600eac2",
   "metadata": {},
   "source": [
    "Q4. What happens if you try to access spam['foo'] if spam is {'bar': 100}?\n",
    "\n",
    "Answer :\n",
    "    \n",
    "        This will give us KeyError as below"
   ]
  },
  {
   "cell_type": "code",
   "execution_count": 2,
   "id": "376b6522",
   "metadata": {},
   "outputs": [
    {
     "ename": "KeyError",
     "evalue": "'foo'",
     "output_type": "error",
     "traceback": [
      "\u001b[1;31m---------------------------------------------------------------------------\u001b[0m",
      "\u001b[1;31mKeyError\u001b[0m                                  Traceback (most recent call last)",
      "Input \u001b[1;32mIn [2]\u001b[0m, in \u001b[0;36m<cell line: 2>\u001b[1;34m()\u001b[0m\n\u001b[0;32m      1\u001b[0m spam \u001b[38;5;241m=\u001b[39m {\u001b[38;5;124m'\u001b[39m\u001b[38;5;124mbar\u001b[39m\u001b[38;5;124m'\u001b[39m:\u001b[38;5;241m100\u001b[39m}\n\u001b[1;32m----> 2\u001b[0m \u001b[43mspam\u001b[49m\u001b[43m[\u001b[49m\u001b[38;5;124;43m'\u001b[39;49m\u001b[38;5;124;43mfoo\u001b[39;49m\u001b[38;5;124;43m'\u001b[39;49m\u001b[43m]\u001b[49m\n",
      "\u001b[1;31mKeyError\u001b[0m: 'foo'"
     ]
    }
   ],
   "source": [
    "        spam = {'bar':100}\n",
    "        spam['foo']"
   ]
  },
  {
   "cell_type": "markdown",
   "id": "76c647ea",
   "metadata": {},
   "source": [
    "Q5. If a dictionary is stored in spam, what is the difference between the expressions 'cat' in spam and 'cat' in spam.keys()?\n",
    "\n",
    "Answer :\n",
    "        \n",
    "        There is no differnce, The 'cat' in spam checks whether there is a 'cat' key in the dictionary & the 'cat' in spam.keys() checks whether there is a key called 'cat' for one of the keys in spam."
   ]
  },
  {
   "cell_type": "code",
   "execution_count": 9,
   "id": "952357e0",
   "metadata": {},
   "outputs": [
    {
     "data": {
      "text/plain": [
       "True"
      ]
     },
     "execution_count": 9,
     "metadata": {},
     "output_type": "execute_result"
    }
   ],
   "source": [
    "        spam ={'cat':100}\n",
    "        'cat' in spam\n",
    "\n"
   ]
  },
  {
   "cell_type": "code",
   "execution_count": 10,
   "id": "47305d73",
   "metadata": {},
   "outputs": [
    {
     "data": {
      "text/plain": [
       "True"
      ]
     },
     "execution_count": 10,
     "metadata": {},
     "output_type": "execute_result"
    }
   ],
   "source": [
    "        'cat' in spam.keys()"
   ]
  },
  {
   "cell_type": "markdown",
   "id": "740eb9f9",
   "metadata": {},
   "source": [
    "Q6. If a dictionary is stored in spam, what is the difference between the expressions 'cat' in spam and 'cat' in spam.values()?\n",
    "\n",
    "Answer :\n",
    "    \n",
    "    'cat' in spam checks whether there is a 'cat' key in the dictionary\n",
    "    'cat' in spam.values() checks whether there is a value 'cat' for one of the keys in spam."
   ]
  },
  {
   "cell_type": "code",
   "execution_count": 11,
   "id": "47fa58db",
   "metadata": {},
   "outputs": [
    {
     "data": {
      "text/plain": [
       "True"
      ]
     },
     "execution_count": 11,
     "metadata": {},
     "output_type": "execute_result"
    }
   ],
   "source": [
    "        spam ={'cat':100}\n",
    "        'cat' in spam"
   ]
  },
  {
   "cell_type": "code",
   "execution_count": 12,
   "id": "4f20e140",
   "metadata": {},
   "outputs": [
    {
     "data": {
      "text/plain": [
       "False"
      ]
     },
     "execution_count": 12,
     "metadata": {},
     "output_type": "execute_result"
    }
   ],
   "source": [
    "        'cat' in spam.values()"
   ]
  },
  {
   "cell_type": "markdown",
   "id": "d69972bf",
   "metadata": {},
   "source": [
    "Q7. What is a shortcut for the following code?\n",
    "    if 'color' not in spam:\n",
    "    spam['color'] = 'black'\n",
    "\n",
    "Answer :\n",
    "    \n",
    "    This can be achieved by using setdefault() which Inserts key with a value of default if key is not in the dictionary"
   ]
  },
  {
   "cell_type": "code",
   "execution_count": 17,
   "id": "3d208b58",
   "metadata": {},
   "outputs": [
    {
     "data": {
      "text/plain": [
       "{'count': 100, 'color': 'black'}"
      ]
     },
     "execution_count": 17,
     "metadata": {},
     "output_type": "execute_result"
    }
   ],
   "source": [
    "spam ={'count':100}\n",
    "spam.setdefault('color','black')\n",
    "spam\n",
    "\n"
   ]
  },
  {
   "cell_type": "code",
   "execution_count": null,
   "id": "c7fef2b1",
   "metadata": {},
   "outputs": [],
   "source": [
    "Q8. How do you 'pretty print' dictionary values using which module and function?\n",
    "\n",
    "Answer :\n",
    "    \n",
    "        Pretty printing means to present something in a more readable format or style.\n"
   ]
  },
  {
   "cell_type": "code",
   "execution_count": 18,
   "id": "094c2d9b",
   "metadata": {},
   "outputs": [
    {
     "name": "stdout",
     "output_type": "stream",
     "text": [
      "[{'Name': 'John', 'Age': '23', 'Country': 'USA'}, {'Name': 'Jose', 'Age': '44', 'Country': 'Spain'}, {'Name': 'Anne', 'Age': '29', 'Country': 'UK'}, {'Name': 'Lee', 'Age': '35', 'Country': 'Japan'}]\n"
     ]
    }
   ],
   "source": [
    "        import pprint\n",
    "        dct_arr = [ {'Name': 'John', 'Age': '23', 'Country': 'USA'},\n",
    "        {'Name': 'Jose', 'Age': '44', 'Country': 'Spain'},\n",
    "        {'Name': 'Anne', 'Age': '29', 'Country': 'UK'},\n",
    "        {'Name': 'Lee', 'Age': '35', 'Country': 'Japan'}\n",
    "        ]\n",
    "        \n",
    "#Printing with print()\n",
    "print(dct_arr)"
   ]
  },
  {
   "cell_type": "code",
   "execution_count": 24,
   "id": "b583540e",
   "metadata": {},
   "outputs": [
    {
     "name": "stdout",
     "output_type": "stream",
     "text": [
      "[{'Age': '23', 'Country': 'USA', 'Name': 'John'},\n",
      " {'Age': '44', 'Country': 'Spain', 'Name': 'Jose'},\n",
      " {'Age': '29', 'Country': 'UK', 'Name': 'Anne'},\n",
      " {'Age': '35', 'Country': 'Japan', 'Name': 'Lee'}]\n"
     ]
    }
   ],
   "source": [
    "# printing with pretty print {Syntax for preety print is pprint.pprint() }\n",
    "\n",
    "pprint.pprint(dct_arr)"
   ]
  },
  {
   "cell_type": "code",
   "execution_count": null,
   "id": "969c9ef3",
   "metadata": {},
   "outputs": [],
   "source": []
  },
  {
   "cell_type": "code",
   "execution_count": null,
   "id": "e5b06b64",
   "metadata": {},
   "outputs": [],
   "source": []
  }
 ],
 "metadata": {
  "kernelspec": {
   "display_name": "Python 3 (ipykernel)",
   "language": "python",
   "name": "python3"
  },
  "language_info": {
   "codemirror_mode": {
    "name": "ipython",
    "version": 3
   },
   "file_extension": ".py",
   "mimetype": "text/x-python",
   "name": "python",
   "nbconvert_exporter": "python",
   "pygments_lexer": "ipython3",
   "version": "3.9.12"
  }
 },
 "nbformat": 4,
 "nbformat_minor": 5
}
