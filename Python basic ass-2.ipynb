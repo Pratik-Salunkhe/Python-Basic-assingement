{
 "cells": [
  {
   "cell_type": "markdown",
   "id": "761200ff",
   "metadata": {},
   "source": [
    "# Assignment-2"
   ]
  },
  {
   "cell_type": "raw",
   "id": "feacf3f7",
   "metadata": {},
   "source": [
    "Q1. What are the two values of the Boolean data type? How do you write them?\n",
    "\n",
    "Answer :\n",
    "        \n",
    "        The boolean value can be of two types only i.e. either True or False. The output indicates the variable is a boolean data type."
   ]
  },
  {
   "cell_type": "code",
   "execution_count": 6,
   "id": "b958d2ec",
   "metadata": {},
   "outputs": [
    {
     "data": {
      "text/plain": [
       "(bool, bool)"
      ]
     },
     "execution_count": 6,
     "metadata": {},
     "output_type": "execute_result"
    }
   ],
   "source": [
    "a=True\n",
    "b=False\n",
    "type(a), type(b)"
   ]
  },
  {
   "cell_type": "raw",
   "id": "26fd3ffd",
   "metadata": {},
   "source": [
    "Q2. What are the three different types of Boolean operators?\n",
    "\n",
    "Answer :'\n",
    "    \n",
    "        There are three logical operators that are used to compare values. They evaluate expressions down to Boolean values, returning either True or False . These operators are and , or , and not '"
   ]
  },
  {
   "cell_type": "raw",
   "id": "959862d9",
   "metadata": {},
   "source": [
    "Q3. Make a list of each Boolean operator's truth tables (i.e. every possible combination of Boolean\n",
    "    values for the operator and what it evaluate ).\n",
    "    \n",
    "Answer :\n",
    "\n",
    "        The boolean operator truth tables are"
   ]
  },
  {
   "cell_type": "code",
   "execution_count": 19,
   "id": "939501e8",
   "metadata": {},
   "outputs": [
    {
     "name": "stdout",
     "output_type": "stream",
     "text": [
      "The AND operator truth table\n",
      " A  B AandB\n",
      "[0, 0, 0]\n",
      "[0, 1, 0]\n",
      "[1, 0, 1]\n",
      "[1, 1, 1]\n",
      "The OR operator truth table\n",
      " A  B AorB\n",
      "[0, 0, 0]\n",
      "[0, 1, 1]\n",
      "[1, 0, 1]\n",
      "[1, 1, 1]\n",
      "The NOT operator truth table\n",
      " A notA\n",
      "[0, 1]\n",
      "[1, 0]\n"
     ]
    }
   ],
   "source": [
    "AND = [[0, 0 ,0],[0,1,0],[1, 0, 1],[1, 1, 1]]\n",
    "\n",
    "print(\"The AND operator truth table\")\n",
    "print(\" A  B AandB\")\n",
    "for i in AND:\n",
    "    print(i)\n",
    "    \n",
    "OR = [[0, 0 ,0],[0,1,1],[1, 0, 1],[1, 1, 1]]\n",
    "\n",
    "print(\"The OR operator truth table\")\n",
    "print(\" A  B AorB\")\n",
    "for i in OR:\n",
    "    print(i)\n",
    "    \n",
    "NOT = [[0, 1],[1,0]]\n",
    "\n",
    "print(\"The NOT operator truth table\")\n",
    "print(\" A notA\")\n",
    "for i in NOT:\n",
    "    print(i)"
   ]
  },
  {
   "cell_type": "raw",
   "id": "c153256f",
   "metadata": {},
   "source": [
    "Q4. What are the values of the following expressions?\n",
    "      (5 > 4) and (3 == 5) \n",
    "      not (5 > 4)\n",
    "      (5 > 4) or (3 == 5)\n",
    "      not ((5 > 4) or (3 == 5))\n",
    "      (True and True) and (True == False)\n",
    "      (not False) or (not True)\n",
    "      \n",
    "Answer : \n",
    "        \n",
    "        The values of following expressions are as follows"
   ]
  },
  {
   "cell_type": "code",
   "execution_count": null,
   "id": "e270c34d",
   "metadata": {},
   "outputs": [],
   "source": [
    "(5 > 4) and (3 == 5)"
   ]
  },
  {
   "cell_type": "code",
   "execution_count": 13,
   "id": "00e7d84a",
   "metadata": {},
   "outputs": [
    {
     "data": {
      "text/plain": [
       "False"
      ]
     },
     "execution_count": 13,
     "metadata": {},
     "output_type": "execute_result"
    }
   ],
   "source": [
    "not (5 > 4)"
   ]
  },
  {
   "cell_type": "code",
   "execution_count": 14,
   "id": "b5cf59b1",
   "metadata": {},
   "outputs": [
    {
     "data": {
      "text/plain": [
       "True"
      ]
     },
     "execution_count": 14,
     "metadata": {},
     "output_type": "execute_result"
    }
   ],
   "source": [
    "(5 > 4) or (3 == 5)"
   ]
  },
  {
   "cell_type": "code",
   "execution_count": 15,
   "id": "3d763c88",
   "metadata": {},
   "outputs": [
    {
     "data": {
      "text/plain": [
       "False"
      ]
     },
     "execution_count": 15,
     "metadata": {},
     "output_type": "execute_result"
    }
   ],
   "source": [
    "not ((5 > 4) or (3 == 5))"
   ]
  },
  {
   "cell_type": "code",
   "execution_count": 16,
   "id": "5f32cb75",
   "metadata": {},
   "outputs": [
    {
     "data": {
      "text/plain": [
       "False"
      ]
     },
     "execution_count": 16,
     "metadata": {},
     "output_type": "execute_result"
    }
   ],
   "source": [
    "(True and True) and (True == False)"
   ]
  },
  {
   "cell_type": "code",
   "execution_count": 17,
   "id": "d15b984f",
   "metadata": {},
   "outputs": [
    {
     "data": {
      "text/plain": [
       "True"
      ]
     },
     "execution_count": 17,
     "metadata": {},
     "output_type": "execute_result"
    }
   ],
   "source": [
    "(not False) or (not True)"
   ]
  },
  {
   "cell_type": "raw",
   "id": "8a91ab7d",
   "metadata": {},
   "source": [
    "Q5. What are the six comparison operators?\n",
    "\n",
    "Answer :\n",
    "\n",
    "        Following are the comparision operators with their symbol which are used in python\n",
    "        \n",
    "        1) Less than(<)\n",
    "        2) Less than or equal to(<=)\n",
    "        3) Greater than(>)\n",
    "        4) Greater than or equal to(>=)\n",
    "        5) Equal(==) \n",
    "        6) Not equal(!=)"
   ]
  },
  {
   "cell_type": "raw",
   "id": "ad4b54ad",
   "metadata": {},
   "source": [
    "Q6. How do you tell the difference between the equal to and assignment operators?Describe a\n",
    "    condition and when you would use one.\n",
    "    \n",
    "Answer :\n",
    "\n",
    "        The “=” is an assignment operator is used to assign the value on the right to the variable on the left, Constant term cannot be placed on left hand side. Example: 1=x; is invalid. While the equal to ‘==’ operator checks whether the two given operands are equal or not. If so, it returns true. Otherwise it returns false.Constant term can be placed in the left hand side. Example: 1==1 is valid and returns 1.\n",
    "        \n",
    "        Example >>\n",
    "                x=10  # Here x and y is assigned a value 10 by using assignment operator\n",
    "                y=10\n",
    "\n",
    "                if x==y: # Here the the assigned value of x and y is compared to get a result\n",
    "                    print(\"True\")\n",
    "                else:\n",
    "                    print(\"False\")"
   ]
  },
  {
   "cell_type": "raw",
   "id": "b54f9028",
   "metadata": {},
   "source": [
    "7. Identify the three blocks in this code:\n",
    "    spam = 0   \n",
    "    if spam == 10:\n",
    "        print(\"eggs\")  \n",
    "    if spam > 5:\n",
    "        print(\"bacon\")\n",
    "    else:\n",
    "        print(\"ham\")\n",
    "        print(\"spam\")\n",
    "        print(\"spam\")\n",
    "        \n",
    "Answer :\n",
    "\n",
    "        # FIRST BLOCK\n",
    "            spam = 0  \n",
    "        \n",
    "        # SECOND BLOCK\n",
    "            if spam == 10:\n",
    "                print(\"eggs\")  \n",
    "                \n",
    "        # THIRD BLOCK\n",
    "            if spam > 5:\n",
    "                print(\"bacon\")\n",
    "            else:\n",
    "                print(\"ham\")\n",
    "                print(\"spam\")\n",
    "                print(\"spam\")\n",
    "        "
   ]
  },
  {
   "cell_type": "raw",
   "id": "73cdd732",
   "metadata": {},
   "source": [
    "Q8. Write code that prints Hello if 1 is stored in spam, prints Howdy if 2 is stored in spam, and prints\n",
    "    Greetings! if anything else is stored in spam.\n",
    "    \n",
    "Answer :\n"
   ]
  },
  {
   "cell_type": "code",
   "execution_count": 2,
   "id": "8438089a",
   "metadata": {},
   "outputs": [
    {
     "name": "stdout",
     "output_type": "stream",
     "text": [
      "Enter spam value :2\n",
      "Howdy\n"
     ]
    }
   ],
   "source": [
    "spam = int(input(\"Enter spam value :\"))\n",
    "if spam == 1 :\n",
    "    print(\"Hello\")\n",
    "elif spam == 2:\n",
    "    print(\"Howdy\")\n",
    "else:\n",
    "    print(\"Greetings!!!\")"
   ]
  },
  {
   "cell_type": "raw",
   "id": "fc24458a",
   "metadata": {},
   "source": [
    "Q9. If your programme is stuck in an endless loop, what keys you’ll press?\n",
    "\n",
    "Answer :\n",
    "    \n",
    "        If the programme is stuck in an endless loop then we have to press Cltr + C to exist from the loop."
   ]
  },
  {
   "cell_type": "raw",
   "id": "523e0cc5",
   "metadata": {},
   "source": [
    "Q10. How can you tell the difference between break and continue?\n",
    "\n",
    "Answer :\n",
    "\n",
    "        Break statement : It terminates the current working loop and passes the control to the next statement, and if the \n",
    "                        break statement resides inside the nested loop, it passes control to the outer loop. It can be used \n",
    "                        with both while and for loops. \n",
    "                        \n",
    "        Continue statement : The continue statement is used to skip code within a loop for certain iterations of the loop. \n",
    "                             After the code is skipped,the loop continues where it left off"
   ]
  },
  {
   "cell_type": "code",
   "execution_count": 8,
   "id": "58305b89",
   "metadata": {},
   "outputs": [
    {
     "name": "stdout",
     "output_type": "stream",
     "text": [
      "0\n",
      "1\n",
      "2\n",
      "3\n",
      "4\n",
      "5\n"
     ]
    }
   ],
   "source": [
    "# Example for break statement >>\n",
    "\n",
    "for i in range(10):   \n",
    "       if i == 6: \n",
    "             break \n",
    "       else: \n",
    "              print (i)\n"
   ]
  },
  {
   "cell_type": "code",
   "execution_count": 13,
   "id": "e0d8617f",
   "metadata": {},
   "outputs": [
    {
     "name": "stdout",
     "output_type": "stream",
     "text": [
      "0\n",
      "1\n",
      "3\n",
      "4\n",
      "5\n",
      "6\n",
      "7\n",
      "8\n",
      "9\n"
     ]
    }
   ],
   "source": [
    "# Example for continue statement >>\n",
    "\n",
    "for i in range(10): \n",
    "    if i == 2: \n",
    "        continue \n",
    "    else: \n",
    "        print (i)"
   ]
  },
  {
   "cell_type": "raw",
   "id": "0e1c32f9",
   "metadata": {},
   "source": [
    "Q11. In a for loop, what is the difference between range(10), range(0, 10), and range(0, 10, 1)?\n",
    "\n",
    "Answer :\n",
    "\n",
    "        range(10) > We got six integers starting from 0 to 5. If you notice, range() didn’t include 6 in its result because it generates numbers up to the stop number but never includes the stop number in its result."
   ]
  },
  {
   "cell_type": "code",
   "execution_count": 19,
   "id": "9b9b231c",
   "metadata": {},
   "outputs": [
    {
     "name": "stdout",
     "output_type": "stream",
     "text": [
      "0\n",
      "1\n",
      "2\n",
      "3\n",
      "4\n",
      "5\n",
      "6\n",
      "7\n",
      "8\n",
      "9\n"
     ]
    },
    {
     "data": {
      "text/plain": [
       "'We got six integers starting from 0 to 5. If you notice, range() didn’t include 6 in its result because it generates numbers  up to the stop number but never includes the stop number in its result.'"
      ]
     },
     "execution_count": 19,
     "metadata": {},
     "output_type": "execute_result"
    }
   ],
   "source": [
    "for i in range(10):\n",
    "    print (i)\n",
    "    \n",
    "\"\"\"We got six integers starting from 0 to 5. If you notice, range() didn’t include 6 in its result because it generates numbers  up to the stop number but never includes the stop number in its result.\"\"\""
   ]
  },
  {
   "cell_type": "code",
   "execution_count": 23,
   "id": "06baa979",
   "metadata": {},
   "outputs": [
    {
     "name": "stdout",
     "output_type": "stream",
     "text": [
      "0\n",
      "1\n",
      "2\n",
      "3\n",
      "4\n",
      "5\n",
      "6\n",
      "7\n",
      "8\n",
      "9\n"
     ]
    },
    {
     "data": {
      "text/plain": [
       "'Here the 0 indicates the starting number and 10 indicates the stop number For example, range(1, 9). Here, start=1 and stop = 9. It will generate integers starting from the start number to stop -1. i.e., [1, 2, 3, 4, 5, 6, 7, 8]'"
      ]
     },
     "execution_count": 23,
     "metadata": {},
     "output_type": "execute_result"
    }
   ],
   "source": [
    "for i in range(0,10):\n",
    "    print(i)\n",
    "    \n",
    "\"\"\"Here the 0 indicates the starting number and 10 indicates the stop number For example, range(1, 9). Here, start=1 and stop = 9. It will generate integers starting from the start number to stop -1. i.e., [1, 2, 3, 4, 5, 6, 7, 8]\"\"\""
   ]
  },
  {
   "cell_type": "code",
   "execution_count": 28,
   "id": "12dec6ae",
   "metadata": {},
   "outputs": [
    {
     "name": "stdout",
     "output_type": "stream",
     "text": [
      "0\n",
      "1\n",
      "2\n",
      "3\n",
      "4\n",
      "5\n",
      "6\n",
      "7\n",
      "8\n",
      "9\n"
     ]
    },
    {
     "data": {
      "text/plain": [
       "'Here 0 indicates the starting number and 10 indicates the range i.e the stop number while 1 indicates the step i.e the increment step. For example, range(0, 9, 2). Here, start=0 and stop = 9 and step=2. It will generate integers starting from the start number to stop -1 by the step of 2. i.e., [0, 2, 4, 6, 8]'"
      ]
     },
     "execution_count": 28,
     "metadata": {},
     "output_type": "execute_result"
    }
   ],
   "source": [
    "for i in range(0,10,1):\n",
    "    print(i)\n",
    "    \n",
    "\"\"\"Here 0 indicates the starting number and 10 indicates the range i.e the stop number while 1 indicates the step i.e the increment step. For example, range(0, 9, 2). Here, start=0 and stop = 9 and step=2. It will generate integers starting from the start number to stop -1 by the step of 2. i.e., [0, 2, 4, 6, 8]\"\"\""
   ]
  },
  {
   "cell_type": "raw",
   "id": "1f9a6d62",
   "metadata": {},
   "source": [
    "Q12. Write a short program that prints the numbers 1 to 10 using a for loop. Then write an equivalent\n",
    "     program that prints the numbers 1 to 10 using a while loop.\n",
    "     \n",
    "Answer :\n"
   ]
  },
  {
   "cell_type": "code",
   "execution_count": 1,
   "id": "a1426f66",
   "metadata": {},
   "outputs": [
    {
     "name": "stdout",
     "output_type": "stream",
     "text": [
      "1\n",
      "2\n",
      "3\n",
      "4\n",
      "5\n",
      "6\n",
      "7\n",
      "8\n",
      "9\n",
      "10\n"
     ]
    }
   ],
   "source": [
    "# Program to print the numbers 1 to 10 using a for loop\n",
    "for i in range(1,11):\n",
    "    print(i)\n"
   ]
  },
  {
   "cell_type": "code",
   "execution_count": 3,
   "id": "31432ccd",
   "metadata": {},
   "outputs": [
    {
     "name": "stdout",
     "output_type": "stream",
     "text": [
      "1\n",
      "2\n",
      "3\n",
      "4\n",
      "5\n",
      "6\n",
      "7\n",
      "8\n",
      "9\n",
      "10\n"
     ]
    }
   ],
   "source": [
    "# Program to print the numbers 1 to 10 using a while loop\n",
    "i = 1\n",
    "while(i<=10):\n",
    "    print(i)\n",
    "    i += 1"
   ]
  },
  {
   "cell_type": "raw",
   "id": "fa55583e",
   "metadata": {},
   "source": [
    "Q13. If you had a function named bacon() inside a module named spam, how would you call it after\n",
    "     importing spam?"
   ]
  }
 ],
 "metadata": {
  "kernelspec": {
   "display_name": "Python 3 (ipykernel)",
   "language": "python",
   "name": "python3"
  },
  "language_info": {
   "codemirror_mode": {
    "name": "ipython",
    "version": 3
   },
   "file_extension": ".py",
   "mimetype": "text/x-python",
   "name": "python",
   "nbconvert_exporter": "python",
   "pygments_lexer": "ipython3",
   "version": "3.9.12"
  }
 },
 "nbformat": 4,
 "nbformat_minor": 5
}
